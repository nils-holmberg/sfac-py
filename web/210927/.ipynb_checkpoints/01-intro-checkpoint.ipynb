{
 "cells": [
  {
   "cell_type": "markdown",
   "id": "b34cab87",
   "metadata": {},
   "source": [
    "[home](https://nils-holmberg.github.io/sfac-py/web/210927/)\n",
    "\n",
    "# day 1: getting started with python\n",
    "- overview of day 1\n",
    "\n",
    "|time  |section |concepts           |\n",
    "|:-----|:-------|:------------------|\n",
    "|09-10 |1_1     |anaconda           |\n",
    "|      |1_2     |jupyter            |\n",
    "|      |1_3     |testing            |\n",
    "|      |break   |                   |\n",
    "|10-11 |2_1     |syntax             |\n",
    "|      |2_2     |functions          |\n",
    "|      |2_3     |files              |\n",
    "|      |break   |                   |\n",
    "|11-12 |3_1     |tables             |\n",
    "|      |3_2     |subset, substitute |\n",
    "|      |3_3     |summarize          |\n",
    "|12-13 |lunch   |anaconda           |\n",
    "\n",
    "- **mindset: excel on steroids**\n",
    "\n",
    "<img src=\"../../fig/Microsoft_Office_Excel_2019_present.svg.png\" width=\"100\"/>\n",
    "\n",
    "## section 1.1: anaconda\n",
    "- check anaconda3 installation (backup with google colab)\n",
    "- anaconda console, conda update, create venv, install scipy\n",
    "- python interpreter prompt, spyder ide, script editor\n",
    "\n",
    "## section 1.2: jupyter\n",
    "- download course [github repository](https://github.com/nils-holmberg/sfac-py.git)\n",
    "- launch jupyter notebook, connect anaconda python kernel\n",
    "\n",
    "## section 1.3: testing\n",
    "- test interactive python commands in jupyter notebooks\n",
    "- navigate file system, working dir "
   ]
  },
  {
   "cell_type": "code",
   "execution_count": 2,
   "id": "cccd8231",
   "metadata": {},
   "outputs": [
    {
     "name": "stdout",
     "output_type": "stream",
     "text": [
      "hello world\n"
     ]
    }
   ],
   "source": [
    "print(\"hello world\")"
   ]
  },
  {
   "cell_type": "code",
   "execution_count": null,
   "id": "62a2e7e2",
   "metadata": {},
   "outputs": [],
   "source": []
  }
 ],
 "metadata": {
  "kernelspec": {
   "display_name": "Python 3.9.6 64-bit ('conda-sci': conda)",
   "language": "python",
   "name": "python396jvsc74a57bd042127b4ad9e8c6c30b086de008d5da0e0b883d2151578d2fa8fcabe4bc5610b0"
  },
  "language_info": {
   "codemirror_mode": {
    "name": "ipython",
    "version": 3
   },
   "file_extension": ".py",
   "mimetype": "text/x-python",
   "name": "python",
   "nbconvert_exporter": "python",
   "pygments_lexer": "ipython3",
   "version": "3.9.6"
  }
 },
 "nbformat": 4,
 "nbformat_minor": 5
}

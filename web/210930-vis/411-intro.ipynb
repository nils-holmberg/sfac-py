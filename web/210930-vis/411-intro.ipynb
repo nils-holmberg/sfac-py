{
 "cells": [
  {
   "cell_type": "markdown",
   "metadata": {
    "id": "siBz2Sgik7pb"
   },
   "source": [
    "[home](https://nils-holmberg.github.io/sfac-py/web/210930-vis/)\n",
    "\n",
    "# data visualization using matplotlib, seaborn (210930)\n",
    "some line\n",
    "\n",
    "## exercise 1\n",
    "some line\n"
   ]
  },
  {
   "cell_type": "code",
   "execution_count": null,
   "metadata": {
    "id": "iY_1h_9qk7ph"
   },
   "outputs": [],
   "source": [
    "import numpy as np\n",
    "import pandas as pd\n",
    "import matplotlib.pyplot as plt\n",
    "#!pip install seaborn\n",
    "import seaborn as sns\n",
    "\n",
    "#%matplotlib inline\n",
    "#%reload_ext autoreload\n",
    "#%autoreload 2"
   ]
  },
  {
   "cell_type": "code",
   "execution_count": null,
   "metadata": {
    "colab": {
     "base_uri": "https://localhost:8080/",
     "height": 243
    },
    "id": "WO07Mz-Rk7pn",
    "outputId": "ae523651-a297-40b8-c99f-24e086962301"
   },
   "outputs": [],
   "source": [
    "#dfc = pd.read_csv('some.csv')\n",
    "print(sns.get_dataset_names())\n",
    "dfc = sns.load_dataset('car_crashes')\n",
    "dfc.head()"
   ]
  },
  {
   "cell_type": "code",
   "execution_count": null,
   "metadata": {
    "colab": {
     "base_uri": "https://localhost:8080/",
     "height": 386
    },
    "id": "2fEXz7oKnCbZ",
    "outputId": "af4634e8-a629-4b93-c0dd-82b03b836ca3"
   },
   "outputs": [],
   "source": [
    "sns.displot(dfc['not_distracted'])"
   ]
  },
  {
   "cell_type": "markdown",
   "metadata": {},
   "source": [
    "## Quickly Creating Summary Counts in Pandas\n",
    "\n",
    "Let's next count the number of samples for each species. We can do this in a few\n",
    "ways, but we'll use `groupby` combined with **a `count()` method**."
   ]
  },
  {
   "cell_type": "code",
   "execution_count": null,
   "id": "a88adea4",
   "metadata": {},
   "outputs": [],
   "source": [
    "# Count the number of samples by species\n",
    "species_counts = surveys_df.groupby('species_id')['record_id'].count()\n",
    "print(species_counts)"
   ]
  },
  {
   "cell_type": "markdown",
   "id": "899884f7",
   "metadata": {},
   "source": [
    "\n",
    "Or, we can also count just the rows that have the species \"DO\":\n",
    "\n"
   ]
  },
  {
   "cell_type": "code",
   "execution_count": null,
   "id": "03208afa",
   "metadata": {},
   "outputs": [],
   "source": [
    "surveys_df.groupby('species_id')['record_id'].count()['DO']"
   ]
  },
  {
   "cell_type": "markdown",
   "id": "3f907ec9",
   "metadata": {},
   "source": [
    "## Basic Math Functions\n",
    "\n",
    "If we wanted to, we could perform math on an entire column of our data. For\n",
    "example let's multiply all weight values by 2. A more practical use of this might\n",
    "be to normalize the data according to a mean, area, or some other value\n",
    "calculated from our data.\n",
    "\n"
   ]
  },
  {
   "cell_type": "code",
   "execution_count": null,
   "id": "3160d3f3",
   "metadata": {},
   "outputs": [],
   "source": [
    "# Multiply all weight values by 2 but does not change the original weight data\n",
    "surveys_df['weight']*2"
   ]
  },
  {
   "cell_type": "markdown",
   "id": "fff25e80",
   "metadata": {},
   "source": [
    "## Quick & Easy Plotting Data Using Pandas\n",
    "\n",
    "We can plot our summary stats using Pandas, too.\n",
    "\n"
   ]
  },
  {
   "cell_type": "code",
   "execution_count": null,
   "id": "a4c7c055",
   "metadata": {},
   "outputs": [],
   "source": [
    "## To make sure figures appear inside Jupyter Notebook\n",
    "%matplotlib inline\n",
    "\n",
    "# Create a quick bar chart\n",
    "species_counts.plot(kind='bar')"
   ]
  },
  {
   "cell_type": "markdown",
   "id": "b04f5a4a",
   "metadata": {},
   "source": [
    "#### Animals per site plot\n",
    "\n",
    "We can also look at how many animals were captured in each site."
   ]
  },
  {
   "cell_type": "code",
   "execution_count": null,
   "id": "4053c387",
   "metadata": {},
   "outputs": [],
   "source": [
    "total_count = surveys_df.groupby('site_id')['record_id'].nunique()\n",
    "# Let's plot that too\n",
    "total_count.plot(kind='bar')"
   ]
  },
  {
   "cell_type": "markdown",
   "id": "0b8a82f6",
   "metadata": {
    "tags": [
     "challenge"
    ]
   },
   "source": [
    "## _Extra Plotting Challenge_\n",
    "\n",
    "1. Create a plot of average weight across all species per plot.\n",
    "\n",
    "2. Create a plot of total males versus total females for the entire dataset.\n",
    " \n",
    "3. Create a stacked bar plot, with weight on the Y axis, and the stacked variable being sex. The plot should show total weight by sex for each plot. Some tips are below to help you solve this challenge:\n",
    "[For more on Pandas plots, visit this link.](http://pandas.pydata.org/pandas-docs/stable/visualization.html#basic-plotting-plot)\n",
    "\n",
    "\n",
    "\n"
   ]
  },
  {
   "cell_type": "markdown",
   "id": "c2b2eea8",
   "metadata": {
    "tags": [
     "solution"
    ]
   },
   "source": [
    "### _Solution to Extra Plotting Challenge 1_"
   ]
  },
  {
   "cell_type": "code",
   "execution_count": null,
   "id": "583b8fb5",
   "metadata": {
    "tags": [
     "solution"
    ]
   },
   "outputs": [],
   "source": [
    "## Solution Plotting Challenge 1\n",
    "surveys_df.groupby('site_id').mean()[\"weight\"].plot(kind='bar')"
   ]
  },
  {
   "cell_type": "markdown",
   "id": "c6cdf31c",
   "metadata": {
    "tags": [
     "solution"
    ]
   },
   "source": [
    "### _Solution to Extra Plotting Challenge 2_"
   ]
  },
  {
   "cell_type": "code",
   "execution_count": null,
   "id": "70e24262",
   "metadata": {
    "tags": [
     "solution"
    ]
   },
   "outputs": [],
   "source": [
    "# Solution Plotting Challenge 2\n",
    "## Create plot of total males versus total females for the entire dataset.\n",
    "\n",
    "surveys_df.groupby('sex').count()[\"record_id\"].plot(kind='bar')"
   ]
  },
  {
   "cell_type": "markdown",
   "id": "d11e80c8",
   "metadata": {
    "tags": [
     "solution"
    ]
   },
   "source": [
    "### _Solution to Extra Plotting Challenge 3_\n",
    "\n",
    "First we group data by site and by sex, and then calculate a total for each site."
   ]
  },
  {
   "cell_type": "code",
   "execution_count": null,
   "id": "669ff112",
   "metadata": {
    "tags": [
     "solution"
    ]
   },
   "outputs": [],
   "source": [
    "by_site_sex = surveys_df.groupby(['site_id','sex'])\n",
    "site_sex_count = by_site_sex['weight'].sum()"
   ]
  },
  {
   "cell_type": "markdown",
   "id": "073a8de5",
   "metadata": {
    "tags": [
     "solution"
    ]
   },
   "source": [
    "\n",
    "This calculates the sums of weights for each sex within each plot as a table\n",
    "\n",
    "```\n",
    "site  sex\n",
    "site_id  sex\n",
    "1        F      38253\n",
    "         M      59979\n",
    "2        F      50144\n",
    "         M      57250\n",
    "3        F      27251\n",
    "         M      28253\n",
    "4        F      39796\n",
    "         M      49377\n",
    "<other sites removed for brevity>\n",
    "```\n",
    "\n",
    "Below we'll use `.unstack()` on our grouped data to figure out the total weight that each sex contributed to each plot.\n",
    "\n"
   ]
  },
  {
   "cell_type": "code",
   "execution_count": null,
   "id": "05de85ea",
   "metadata": {
    "tags": [
     "solution"
    ]
   },
   "outputs": [],
   "source": [
    "by_site_sex = surveys_df.groupby(['site_id','sex'])\n",
    "site_sex_count = by_site_sex['weight'].sum()\n",
    "site_sex_count.unstack()"
   ]
  },
  {
   "cell_type": "markdown",
   "id": "bb0d1279",
   "metadata": {
    "tags": [
     "solution"
    ]
   },
   "source": [
    "Now, create a stacked bar plot with that data where the weights for each sex are stacked by plot.\n",
    "\n",
    "Rather than display it as a table, we can plot the above data by stacking the values of each sex as follows:"
   ]
  },
  {
   "cell_type": "code",
   "execution_count": null,
   "id": "0fbc83bc",
   "metadata": {
    "tags": [
     "solution"
    ]
   },
   "outputs": [],
   "source": [
    "by_site_sex = surveys_df.groupby(['site_id', 'sex'])\n",
    "site_sex_count = by_site_sex['weight'].sum()\n",
    "spc = site_sex_count.unstack()\n",
    "s_plot = spc.plot(kind='bar', stacked=True, title=\"Total weight by site and sex\")\n",
    "s_plot.set_ylabel(\"Weight\")\n",
    "s_plot.set_xlabel(\"Site\")"
   ]
  },
  {
   "cell_type": "code",
   "execution_count": null,
   "metadata": {
    "id": "K-GmZ0mSpKtZ"
   },
   "outputs": [],
   "source": []
  }
 ],
 "metadata": {
  "colab": {
   "collapsed_sections": [],
   "name": "graphs.ipynb",
   "provenance": []
  },
  "kernelspec": {
   "display_name": "Python 3 (ipykernel)",
   "language": "python",
   "name": "python3"
  },
  "language_info": {
   "codemirror_mode": {
    "name": "ipython",
    "version": 3
   },
   "file_extension": ".py",
   "mimetype": "text/x-python",
   "name": "python",
   "nbconvert_exporter": "python",
   "pygments_lexer": "ipython3",
   "version": "3.8.11"
  }
 },
 "nbformat": 4,
 "nbformat_minor": 4
}

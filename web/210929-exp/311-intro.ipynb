{
 "cells": [
  {
   "cell_type": "markdown",
   "metadata": {},
   "source": [
    "[home](https://nils-holmberg.github.io/sfac-py/web/210929-exp/)\n",
    "\n",
    "# day 3: getting started with psychopy and web experiments\n",
    "- overview day 3\n",
    "\n",
    "|time  |section |concepts                     |outcomes                                                                    |\n",
    "|:-----|:-------|:----------------------------|:---------------------------------------------------------------------------|\n",
    "|09-10 |3.1.1   |[psychopy](311-intro.html)   |installing the psychopy3 2020/2021 standalone package from github           |\n",
    "|      |3.1.2   |python syntax                |practice data structures, conditional statements, flow control              |\n",
    "|      |3.1.3   |testing                      |check out the experiment on pavlovia to get an idea about the design        |\n",
    "|      |break   |                             |                                                                            |\n",
    "|10-11 |3.2.1   |[builder](321-build.html)    |construct a randomized controlled posner task experiment (reaction time)    |\n",
    "|      |3.2.2   |conditions                   |check out conditions, trials, and stimuli in excel file, cf. gantt chart    |\n",
    "|      |3.2.3   |responses                    |register mouse click and latency responses, add loop for trials             |\n",
    "|      |break   |                             |                                                                            |\n",
    "|11-12 |3.3.1   |[web based](331-online.html) |use pavlovia web service to put experiment online and invite participants   |\n",
    "|      |3.3.2   |manage                       |log in to pavlovia, sync psychopy experiment, select local dir, remote repo |\n",
    "|      |3.3.3   |publish                      |view code on gitlab, change experiment status to piloting, change to public |\n",
    "|12-13 |lunch   |                             |                                                                            |\n",
    "\n",
    "# section 3.1.1\n",
    "some line\n",
    "\n",
    "# section 3.1.2\n",
    "some line\n",
    "\n",
    "# section 3.1.3\n",
    "some line\n"
   ]
  },
  {
   "cell_type": "code",
   "execution_count": 1,
   "metadata": {},
   "outputs": [],
   "source": [
    "import pandas as pd\n"
   ]
  },
  {
   "cell_type": "code",
   "execution_count": null,
   "metadata": {},
   "outputs": [],
   "source": []
  }
 ],
 "metadata": {
  "kernelspec": {
   "display_name": "Python 3 (ipykernel)",
   "language": "python",
   "name": "python3"
  },
  "language_info": {
   "codemirror_mode": {
    "name": "ipython",
    "version": 3
   },
   "file_extension": ".py",
   "mimetype": "text/x-python",
   "name": "python",
   "nbconvert_exporter": "python",
   "pygments_lexer": "ipython3",
   "version": "3.8.11"
  }
 },
 "nbformat": 4,
 "nbformat_minor": 4
}

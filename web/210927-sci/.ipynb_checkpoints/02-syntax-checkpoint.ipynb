{
 "cells": [
  {
   "cell_type": "markdown",
   "id": "ec294da9",
   "metadata": {},
   "source": [
    "[home](https://nils-holmberg.github.io/sfac-py/web/210927/)\n",
    "\n",
    "# day 1: getting started with python\n",
    "- overview of day 1\n",
    "\n",
    "## section: 2.1: python\n",
    "- variables, flow control, con\n",
    "\n",
    "## section: 2.2: functions\n",
    "- data structures, functions, pkgs\n",
    "\n",
    "## section: 2.3: files\n",
    "- navigate file system, working dir \n"
   ]
  },
  {
   "cell_type": "code",
   "execution_count": null,
   "id": "4930eb74",
   "metadata": {},
   "outputs": [],
   "source": []
  }
 ],
 "metadata": {
  "kernelspec": {
   "display_name": "Python 3.9.6 64-bit ('conda-sci': conda)",
   "language": "python",
   "name": "python396jvsc74a57bd042127b4ad9e8c6c30b086de008d5da0e0b883d2151578d2fa8fcabe4bc5610b0"
  },
  "language_info": {
   "codemirror_mode": {
    "name": "ipython",
    "version": 3
   },
   "file_extension": ".py",
   "mimetype": "text/x-python",
   "name": "python",
   "nbconvert_exporter": "python",
   "pygments_lexer": "ipython3",
   "version": "3.9.6"
  }
 },
 "nbformat": 4,
 "nbformat_minor": 5
}

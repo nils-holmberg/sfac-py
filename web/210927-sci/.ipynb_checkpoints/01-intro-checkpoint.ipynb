{
 "cells": [
  {
   "cell_type": "markdown",
   "id": "44c90381",
   "metadata": {},
   "source": [
    "[home](https://nils-holmberg.github.io/sfac-py/web/210927-sci/)\n",
    "\n",
    "# day 1: getting started with python\n",
    "- overview of day 1\n",
    "\n",
    "|time  |section |concepts                        |outcomes                                                            |\n",
    "|:-----|:-------|:-------------------------------|:-------------------------------------------------------------------|\n",
    "|09-10 |1.1.1   |[anaconda3](01-intro.html)      |understand install location, create and update virtual environments |\n",
    "|      |1.1.2   |jupyter                         |download course material, open notebooks, edit in web browser       |\n",
    "|      |1.1.3   |testing                         |execute the hello world example in jupyter python env               |\n",
    "|      |break   |                                |                                                                    |\n",
    "|10-11 |1.2.1   |[python syntax](02-syntax.html) |practice data structures, conditional statements, flow control      |\n",
    "|      |1.2.2   |functions                       |understand modules                                                  |\n",
    "|      |1.2.3   |files, directories              |navigate the file system, read, write data files                    |\n",
    "|      |break   |                                |                                                                    |\n",
    "|11-12 |1.3.1   |[tabular data](03-tables.html)  |understand how to read, write, and process survey data              |\n",
    "|      |1.3.2   |subset, substitute              |and reshape                                                         |\n",
    "|      |1.3.3   |summarize                       |aggregate, combine, join operations                                 |\n",
    "|12-13 |lunch   |anaconda, continued             |try to resolve anaconda, psychopy installation problems             |\n",
    "\n",
    "- **mindset: excel on steroids**\n",
    "\n",
    "<img src=\"../../fig/Microsoft_Office_Excel_2019_present.svg.png\" width=\"100\"/>\n",
    "\n",
    "## section 1.1.1: anaconda\n",
    "- check anaconda3 installation (backup with google colab)\n",
    "- anaconda console, conda update, create venv, install scipy\n",
    "- python interpreter prompt, spyder ide, script editor\n",
    "\n",
    "## section 1.1.2: jupyter\n",
    "- download course [github repository](https://github.com/nils-holmberg/sfac-py.git)\n",
    "- launch jupyter notebook, connect anaconda python kernel\n",
    "\n",
    "## section 1.1.3: testing\n",
    "- test interactive python commands in jupyter notebooks\n",
    "- navigate file system, working dir "
   ]
  },
  {
   "cell_type": "code",
   "execution_count": 2,
   "id": "a5acd05c",
   "metadata": {},
   "outputs": [
    {
     "name": "stdout",
     "output_type": "stream",
     "text": [
      "hello world\n"
     ]
    }
   ],
   "source": [
    "print(\"hello world\")"
   ]
  },
  {
   "cell_type": "code",
   "execution_count": 1,
   "id": "8c78be63",
   "metadata": {},
   "outputs": [
    {
     "name": "stdout",
     "output_type": "stream",
     "text": [
      "/bin/bash: line 1: jt: command not found\r\n"
     ]
    }
   ],
   "source": [
    "!jt -t oceans16 -tf merriserif -tfs 14 -nf ptsans -nfs 14"
   ]
  },
  {
   "cell_type": "code",
   "execution_count": null,
   "id": "6f9ce6ad",
   "metadata": {},
   "outputs": [],
   "source": []
  }
 ],
 "metadata": {
  "interpreter": {
   "hash": "e421d3b68f4391190fb1f8e0b329ae041ae1095e70fa55ab3d8ddd98f5dcb31e"
  },
  "kernelspec": {
   "display_name": "Python [conda env:conda-sci]",
   "language": "python",
   "name": "conda-env-conda-sci-py"
  },
  "language_info": {
   "codemirror_mode": {
    "name": "ipython",
    "version": 3
   },
   "file_extension": ".py",
   "mimetype": "text/x-python",
   "name": "python",
   "nbconvert_exporter": "python",
   "pygments_lexer": "ipython3",
   "version": "3.9.6"
  }
 },
 "nbformat": 4,
 "nbformat_minor": 5
}

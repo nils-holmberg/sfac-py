{
 "cells": [
  {
   "cell_type": "markdown",
   "id": "44c90381",
   "metadata": {},
   "source": [
    "[home](https://nils-holmberg.github.io/sfac-py/web/210927-sci/)\n",
    "\n",
    "# day 1: getting started with python\n",
    "- overview of day 1\n",
    "\n",
    "|time  |section |concepts                         |outcomes                                                            |\n",
    "|:-----|:-------|:--------------------------------|:-------------------------------------------------------------------|\n",
    "|09-10 |1.1.1   |[anaconda3](111-intro.html)      |understand install location, create and update virtual environments |\n",
    "|      |1.1.2   |jupyter                          |download course material, open notebooks, edit in web browser       |\n",
    "|      |1.1.3   |testing                          |execute the hello world example in jupyter python env               |\n",
    "|      |break   |                                 |                                                                    |\n",
    "|10-11 |1.2.1   |[python syntax](121-syntax.html) |practice data structures, conditional statements, flow control      |\n",
    "|      |1.2.2   |functions                        |understand modules                                                  |\n",
    "|      |1.2.3   |files, directories               |navigate the file system, read, write data files                    |\n",
    "|      |break   |                                 |                                                                    |\n",
    "|11-12 |1.3.1   |[tabular data](131-tables.html)  |understand how to read, write, and process survey data              |\n",
    "|      |1.3.2   |subset, substitute               |and reshape                                                         |\n",
    "|      |1.3.3   |summarize                        |aggregate, combine, join operations                                 |\n",
    "|12-13 |lunch   |anaconda, continued              |try to resolve anaconda, psychopy installation problems             |\n",
    "\n",
    "- **mindset: excel on steroids**\n",
    "\n",
    "<img src=\"../../fig/Microsoft_Office_Excel_2019_present.svg.png\" width=\"100\"/>\n",
    "\n",
    "# section 1.1.1: anaconda\n",
    "- check anaconda3 installation (backup with google colab)\n",
    "- **anaconda console**, conda update, create venv, install scipy\n",
    "- python interpreter prompt, spyder ide, script editor\n",
    "\n",
    "```python\n",
    "# update anaconda, spyder\n",
    "conda update anaconda\n",
    "conda install spyder=5.0.5\n",
    "# update packages in env\n",
    "conda update --all\n",
    "# list envs\n",
    "conda env list\n",
    "# start jupyter notebook\n",
    "jupyter notebook\n",
    "```\n",
    "\n",
    "# section 1.1.2: jupyter\n",
    "- download course [github repository](https://github.com/nils-holmberg/sfac-py.git)\n",
    "- launch jupyter notebook, connect anaconda python kernel\n",
    "\n",
    "# section 1.1.3: testing\n",
    "- test interactive python commands in jupyter notebooks\n",
    "- navigate file system, working dir "
   ]
  },
  {
   "cell_type": "code",
   "execution_count": 2,
   "id": "a5acd05c",
   "metadata": {},
   "outputs": [
    {
     "name": "stdout",
     "output_type": "stream",
     "text": [
      "hello world\n"
     ]
    }
   ],
   "source": [
    "# comment: test anaconda3 and jupyter notebooks\n",
    "print(\"hello world\")"
   ]
  },
  {
   "cell_type": "markdown",
   "id": "0449f020",
   "metadata": {},
   "source": [
    "## Interpreter\n",
    "\n",
    "Python is an interpreted language[*](https://softwareengineering.stackexchange.com/a/24560) which can be used in two ways:\n",
    "\n",
    "* \"Interactive\" Mode: It functions like an \"advanced calculator\", executing\n",
    "  one command at a time:\n",
    "  \n",
    "```bash\n",
    "user:host:~$ python\n",
    "Python 3.5.1 (default, Oct 23 2015, 18:05:06)\n",
    "[GCC 4.8.3] on linux2\n",
    "Type \"help\", \"copyright\", \"credits\" or \"license\" for more information.\n",
    ">>> 2 + 2\n",
    "4\n",
    ">>> print(\"Hello World\")\n",
    "Hello World\n",
    "```\n",
    "\n",
    "* \"Scripting\" Mode: Executing a series of \"commands\" saved in text file,\n",
    "  usually with a `.py` extension after the name of your file:\n",
    "\n",
    "```bash\n",
    "user:host:~$ python my_script.py\n",
    "Hello World\n",
    "```\n",
    "\n",
    "## Using interactive Python in Jupyter-style notebooks\n",
    "\n",
    "A convenient and powerful way to use interactive-mode Python is via a Jupyter Notebook, or similar browser-based interface.\n",
    "\n",
    "This particularly lends itself to data analysis since the notebook records a history of commands and shows output and graphs immediately in the browser.\n",
    "\n",
    "There are several ways you can run a Jupyter(-style) notebook - locally installed on your computer or hosted as a service on the web. Today we will use a Jupyter notebook service provided by Google: https://colab.research.google.com (Colaboratory).\n",
    "\n",
    "### Jupyter-style notebooks: a quick tour\n",
    "\n",
    "Go to https://colab.research.google.com and login with your Google account.\n",
    "\n",
    "Select ***NEW NOTEBOOK → NEW PYTHON 3 NOTEBOOK*** - a new notebook will be created.\n",
    "\n",
    "---\n",
    "\n",
    "Type some Python code in the top cell, eg:\n",
    "\n",
    "```python\n",
    "print(\"Hello Jupyter !\")\n",
    "```\n",
    "\n",
    "***Shift-Enter*** to run the contents of the cell\n",
    "\n",
    "---\n",
    "\n",
    "You can add new cells.\n",
    "\n",
    "***Insert → Insert Code Cell***\n",
    "\n",
    "---\n",
    "\n",
    "NOTE: When the text on the left hand of the cell is: `In [*]` (with an asterisk rather than a number), the cell is still running. It's usually best to wait until one cell has finished running before running the next.\n",
    "\n",
    "Let's begin writing some code in our notebook."
   ]
  },
  {
   "cell_type": "code",
   "execution_count": null,
   "id": "98d8dd3f",
   "metadata": {},
   "outputs": [],
   "source": []
  }
 ],
 "metadata": {
  "interpreter": {
   "hash": "e421d3b68f4391190fb1f8e0b329ae041ae1095e70fa55ab3d8ddd98f5dcb31e"
  },
  "kernelspec": {
   "display_name": "Python [conda env:conda-sci]",
   "language": "python",
   "name": "conda-env-conda-sci-py"
  },
  "language_info": {
   "codemirror_mode": {
    "name": "ipython",
    "version": 3
   },
   "file_extension": ".py",
   "mimetype": "text/x-python",
   "name": "python",
   "nbconvert_exporter": "python",
   "pygments_lexer": "ipython3",
   "version": "3.9.6"
  }
 },
 "nbformat": 4,
 "nbformat_minor": 5
}

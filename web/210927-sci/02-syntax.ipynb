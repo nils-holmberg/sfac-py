{
 "cells": [
  {
   "cell_type": "markdown",
   "id": "ec294da9",
   "metadata": {},
   "source": [
    "[home](https://nils-holmberg.github.io/sfac-py/web/210927-sci/)\n",
    "\n",
    "# day 1: getting started with python\n",
    "- overview of day 1\n",
    "\n",
    "## section: 1.2.1: python\n",
    "- variables, flow control, con\n",
    "\n",
    "## section: 1.2.2: functions\n",
    "- data structures, functions, pkgs\n",
    "\n",
    "## section: 1.2.3: files\n",
    "- navigate file system, working dir \n"
   ]
  },
  {
   "cell_type": "code",
   "execution_count": null,
   "id": "4930eb74",
   "metadata": {},
   "outputs": [],
   "source": []
  }
 ],
 "metadata": {
  "kernelspec": {
   "display_name": "Python 3.8.11 64-bit ('base': conda)",
   "language": "python",
   "name": "python3811jvsc74a57bd0e421d3b68f4391190fb1f8e0b329ae041ae1095e70fa55ab3d8ddd98f5dcb31e"
  },
  "language_info": {
   "codemirror_mode": {
    "name": "ipython",
    "version": 3
   },
   "file_extension": ".py",
   "mimetype": "text/x-python",
   "name": "python",
   "nbconvert_exporter": "python",
   "pygments_lexer": "ipython3",
   "version": "3.8.11"
  }
 },
 "nbformat": 4,
 "nbformat_minor": 5
}

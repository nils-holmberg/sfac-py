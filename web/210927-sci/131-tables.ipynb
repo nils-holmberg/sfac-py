{
 "cells": [
  {
   "cell_type": "markdown",
   "id": "f0829d24",
   "metadata": {},
   "source": [
    "[home](https://nils-holmberg.github.io/sfac-py/web/210927-sci/)\n",
    "\n",
    "# day 1: getting started with python\n",
    "- overview of day 1\n",
    "- **mindset: excel on steroids**\n",
    "<img src=\"../../fig/Microsoft_Office_Excel_2019_present.svg.png\" width=\"100\"/>\n",
    "\n",
    "## section 1.3.1: tables\n",
    "- **mindset: excel on steroids**\n",
    "- file system, folders, csv files\n",
    "- checking, cleaning, summarizing \n",
    "- sql-like operations on datasets\n",
    "- combination of numeric and text \n",
    "- intro to day 2, nlp and spacy\n"
   ]
  },
  {
   "cell_type": "code",
   "execution_count": null,
   "id": "05e155aa",
   "metadata": {},
   "outputs": [],
   "source": [
    "import pandas as pd\n",
    "import seaborn as sns\n",
    "\n",
    "# df = pd.read_csv('https://raw.githubusercontent.com/mwaskom/seaborn-data/master/iris.csv')\n",
    "df = sns.load_dataset('iris')\n",
    "df.head()"
   ]
  },
  {
   "cell_type": "code",
   "execution_count": null,
   "id": "cad8a3eb",
   "metadata": {},
   "outputs": [],
   "source": [
    "df.to_csv(\"csv/iris.csv\", sep=\"\\t\", header=True, index=False)"
   ]
  },
  {
   "cell_type": "code",
   "execution_count": null,
   "id": "917c0d86",
   "metadata": {},
   "outputs": [],
   "source": [
    "# file path on google colab\n",
    "fp = '/content/iris.csv'\n",
    "# file path relative to local working dir\n",
    "fp = '../../csv/iris.csv'\n",
    "\n",
    "df = pd.read_csv(fp, sep=\"\\t\", header=0)\n",
    "df.head()"
   ]
  },
  {
   "cell_type": "markdown",
   "id": "12ef8744",
   "metadata": {
    "tags": [
     "solution"
    ]
   },
   "source": [
    "## Instructor notes\n",
    "\n",
    "*Estimated teaching time:* 30 min\n",
    "\n",
    "*Estimated challenge time:* 30 min\n",
    "\n",
    "*Key questions:*\n",
    "\n",
    "  - \"How can I import data in Python ?\"\n",
    "  - \"What is Pandas ?\"\n",
    "  - \"Why should I use Pandas to work with data ?\"\n",
    "    \n",
    "*Learning objectives:*\n",
    "\n",
    "  - \"Navigate the workshop directory and download a dataset.\"\n",
    "  - \"Explain what a library is and what libraries are used for.\"\n",
    "  - \"Describe what the Python Data Analysis Library (Pandas) is.\"\n",
    "  - \"Load the Python Data Analysis Library (Pandas).\"\n",
    "  - \"Use `read_csv` to read tabular data into Python.\"\n",
    "  - \"Describe what a DataFrame is in Python.\"\n",
    "  - \"Access and summarize data stored in a DataFrame.\"\n",
    "  - \"Define indexing as it relates to data structures.\"\n",
    "  - \"Perform basic mathematical operations and summary statistics on data in a Pandas DataFrame.\"\n",
    "  - \"Create simple plots.\""
   ]
  },
  {
   "cell_type": "markdown",
   "id": "3229e18f",
   "metadata": {},
   "source": [
    "### Automating data analysis tasks in Python\n",
    "\n",
    "We can automate the process of performing data manipulations in Python. It's efficient to spend time\n",
    "building the code to perform these tasks because once it's built, we can use it\n",
    "over and over on different datasets that use a similar format. This makes our\n",
    "methods easily reproducible. We can also easily share our code with colleagues\n",
    "and they can replicate the same analysis.\n",
    "\n",
    "### The Dataset\n",
    "\n",
    "For this lesson, we will be using the Portal Teaching data, a subset of the data\n",
    "from Ernst et al\n",
    "[Long-term monitoring and experimental manipulation of a Chihuahuan Desert ecosystem near Portal, Arizona, USA](http://www.esapubs.org/archive/ecol/E090/118/default.htm)\n",
    "\n",
    "We will be using this dataset, which can be downloaded here: [surveys.csv](tmp/surveys.csv) ... but **don't click** to download it in your browser - **we are going to use Python !**"
   ]
  },
  {
   "cell_type": "code",
   "execution_count": null,
   "id": "a441e947",
   "metadata": {},
   "outputs": [],
   "source": [
    "import urllib.request\n",
    "\n",
    "# You can also get this URL value by right-clicking the `surveys.csv` link above and selecting \"Copy Link Address\"\n",
    "url = 'https://raw.githubusercontent.com/nils-holmberg/sfac-py/main/csv/surveys.csv'\n",
    "\n",
    "# save file\n",
    "urllib.request.urlretrieve(url, 'tmp/surveys.csv')"
   ]
  },
  {
   "cell_type": "markdown",
   "id": "50c180da",
   "metadata": {},
   "source": [
    "If Jupyter is running locally on your computer, you'll now have a file `surveys.csv` in the current working directory.\n",
    "You can check by clicking on `File` tab on the top left of the notebook to see if the file exists. If you are running Jupyter on a remote server or cloud service (eg Colaboratory or Azure Notebooks), the file will be there instead."
   ]
  },
  {
   "cell_type": "markdown",
   "id": "ea8c71d8",
   "metadata": {},
   "source": [
    "We are studying the species and weight of animals caught in plots in our study\n",
    "area. The dataset is stored as a `.csv` file: each row holds information for a\n",
    "single animal, and the columns represent:\n",
    "\n",
    "| Column           | Description                        |\n",
    "|------------------|------------------------------------|\n",
    "| record_id        | Unique id for the observation      |\n",
    "| month            | month of observation               |\n",
    "| day              | day of observation                 |\n",
    "| year             | year of observation                |\n",
    "| site_id          | ID of a particular plot            |\n",
    "| species_id       | 2-letter code                      |\n",
    "| sex              | sex of animal (\"M\", \"F\")           |\n",
    "| hindfoot_length  | length of the hindfoot in mm       |\n",
    "| weight           | weight of the animal in grams      |\n",
    "\n",
    "\n",
    "The first few rows of our file look like this:\n",
    "\n",
    "```\n",
    "record_id,month,day,year,site_id,species_id,sex,hindfoot_length,weight\n",
    "1,7,16,1977,2,NL,M,32,\n",
    "2,7,16,1977,3,NL,M,33,\n",
    "3,7,16,1977,2,DM,F,37,\n",
    "4,7,16,1977,7,DM,M,36,\n",
    "5,7,16,1977,3,DM,M,35,\n",
    "6,7,16,1977,1,PF,M,14,\n",
    "7,7,16,1977,2,PE,F,,\n",
    "8,7,16,1977,1,DM,M,37,\n",
    "9,7,16,1977,1,DM,F,34,\n",
    "```\n",
    "\n",
    "---"
   ]
  },
  {
   "cell_type": "markdown",
   "id": "7ac53290",
   "metadata": {},
   "source": [
    "## About Libraries\n",
    "\n",
    "A library in Python contains a set of tools (called functions) that perform\n",
    "tasks on our data. Importing a library is like getting a piece of lab equipment\n",
    "out of a storage locker and setting it up on the bench for use in a project.\n",
    "Once a library is set up, it can be used or called to perform many tasks.\n",
    "\n",
    "If you have noticed in the previous code `import urllib.request`, we are calling \n",
    "a **request** function from library **urllib** to download our dataset from web.\n",
    "\n"
   ]
  },
  {
   "cell_type": "markdown",
   "id": "ce90c50f",
   "metadata": {},
   "source": [
    "## Pandas in Python\n",
    "The dataset we have, is in table format. One of the best options for working with tabular data in Python is to use the\n",
    "[Python Data Analysis Library](http://pandas.pydata.org/) (a.k.a. Pandas). The\n",
    "Pandas library provides data structures, produces high quality plots with\n",
    "[matplotlib](http://matplotlib.org/) and integrates nicely with other libraries\n",
    "that use [NumPy](http://www.numpy.org/) (which is another Python library) arrays.\n",
    "\n",
    "First, lets make sure the Pandas and matplotlib packages are **installed**."
   ]
  },
  {
   "cell_type": "code",
   "execution_count": null,
   "id": "eb55aeee",
   "metadata": {},
   "outputs": [],
   "source": [
    "#conda install pandas matplotlib"
   ]
  },
  {
   "cell_type": "markdown",
   "id": "a5049ee2",
   "metadata": {},
   "source": [
    "Python doesn't load all of the libraries available to it by default. We have to\n",
    "add an `import` statement to our code in order to use library functions. To import\n",
    "a library, we use the syntax `import libraryName`. If we want to give the\n",
    "library a nickname to shorten the command, we can add `as nickNameHere`.  An\n",
    "example of importing the pandas library using the common nickname `pd` is below."
   ]
  },
  {
   "cell_type": "code",
   "execution_count": null,
   "id": "a6144917",
   "metadata": {},
   "outputs": [],
   "source": [
    "import pandas as pd\n",
    "\n",
    "# read data\n",
    "#df = pd.read_csv('https://raw.githubusercontent.com/mwaskom/seaborn-data/master/iris.csv')\n",
    "#df = pd.read_csv(fp, sep=\"\\t\", header=0)"
   ]
  },
  {
   "cell_type": "markdown",
   "id": "8613e456",
   "metadata": {},
   "source": [
    "\n",
    "Each time we call a function that's in a library, we use the syntax\n",
    "`LibraryName.FunctionName`. Adding the library name with a `.` before the\n",
    "function name tells Python where to find the function. In the example above, we\n",
    "have imported Pandas as `pd`. This means we don't have to type out `pandas` each\n",
    "time we call a Pandas function.\n",
    "\n",
    "\n",
    "# Reading CSV Data Using Pandas\n",
    "\n",
    "We will begin by locating and reading our survey data which are in CSV format. CSV stands for Comma-Separated Values and is a common way store formatted data. Other symbols my also be used, so you might see tab-separated, colon-separated or space separated files. It is quite easy to replace one separator with another, to match your application. The first line in the file often has headers to explain what is in each column. CSV (and other separators) make it easy to share data, and can be imported and exported from many applications, including Microsoft Excel.\n",
    "\n",
    "We can use Pandas' `read_csv` function to pull the file directly into a\n",
    "[DataFrame](http://pandas.pydata.org/pandas-docs/stable/dsintro.html#dataframe).\n",
    "\n"
   ]
  },
  {
   "cell_type": "markdown",
   "id": "97544e0d",
   "metadata": {},
   "source": [
    "## So What's a DataFrame?\n",
    "\n",
    "A DataFrame is a 2-dimensional data structure that can store data of different\n",
    "types (including characters, integers, floating point values, factors and more)\n",
    "in columns. It is similar to a spreadsheet or an SQL table or the `data.frame` in\n",
    "R. A DataFrame always has an index (0-based). An index refers to the position of\n",
    "an element in the data structure.\n",
    "\n"
   ]
  },
  {
   "cell_type": "code",
   "execution_count": null,
   "id": "9430bbd7",
   "metadata": {},
   "outputs": [],
   "source": [
    "# note that pd.read_csv is available because we imported pandas as pd, and data is available where we saved it\n",
    "df = pd.read_csv(\"tmp/surveys.csv\")\n",
    "df.head()"
   ]
  },
  {
   "cell_type": "markdown",
   "id": "c0578097",
   "metadata": {},
   "source": [
    "The above command outputs a `DateFrame` object, which Jupyter displays as a table (snipped in the middle since there are many rows).\n",
    "\n",
    "We can see that there were 33,549 rows parsed. Each row has 9\n",
    "columns. The first column is the index of the DataFrame. The index is used to\n",
    "identify the position of the data, but it is not an actual column of the DataFrame.\n",
    "It looks like  the `read_csv` function in Pandas  read our file properly. However,\n",
    "we haven't saved any data to memory so we can work with it.We need to assign the\n",
    "DataFrame to a variable. Remember that a variable is a name for a value, such as `x`,\n",
    "or `data`. We can create a new  object with a variable name by assigning a value to it using `=`.\n",
    "\n",
    "Let's call the imported survey data `surveys_df`:"
   ]
  },
  {
   "cell_type": "code",
   "execution_count": null,
   "id": "f1d3f0b3",
   "metadata": {},
   "outputs": [],
   "source": [
    "surveys_df = pd.read_csv(\"../../csv/surveys.csv\")"
   ]
  },
  {
   "cell_type": "markdown",
   "id": "c79f9139",
   "metadata": {},
   "source": [
    "Notice when you assign the imported DataFrame to a variable, Python does not\n",
    "produce any output on the screen. We can view the value of the `surveys_df`\n",
    "object by typing its name into the cell."
   ]
  },
  {
   "cell_type": "code",
   "execution_count": null,
   "id": "6d01b8a2",
   "metadata": {},
   "outputs": [],
   "source": [
    "surveys_df"
   ]
  },
  {
   "cell_type": "markdown",
   "id": "309caffb",
   "metadata": {},
   "source": [
    "\n",
    "which prints contents like above."
   ]
  },
  {
   "cell_type": "markdown",
   "id": "38584604",
   "metadata": {},
   "source": [
    "You can also select just a few rows, so it is easier to fit on one window, you can see that pandas has neatly formatted the data to fit our screen.\n",
    "\n",
    "Here, we will be using a function called **head**.\n",
    "\n",
    "The `head()` function displays the first several lines of a file. It is discussed below.\n"
   ]
  },
  {
   "cell_type": "code",
   "execution_count": null,
   "id": "9f70cb94",
   "metadata": {},
   "outputs": [],
   "source": [
    "surveys_df.head()"
   ]
  },
  {
   "cell_type": "markdown",
   "id": "c6a0ba45",
   "metadata": {},
   "source": [
    "## Exploring Our Species Survey Data\n",
    "\n",
    "Again, we can use the `type` function to see what kind of thing `surveys_df` is:\n",
    "\n"
   ]
  },
  {
   "cell_type": "code",
   "execution_count": null,
   "id": "47727631",
   "metadata": {},
   "outputs": [],
   "source": [
    "type(surveys_df)"
   ]
  },
  {
   "cell_type": "markdown",
   "id": "7ea48398",
   "metadata": {},
   "source": [
    "\n",
    "As expected, it's a DataFrame (or, to use the full name that Python uses to refer\n",
    "to it internally, a `pandas.core.frame.DataFrame`).\n",
    "\n",
    "What kind of things does `surveys_df` contain? DataFrames have an attribute\n",
    "called `dtypes` that answers this:\n",
    "\n"
   ]
  },
  {
   "cell_type": "code",
   "execution_count": null,
   "id": "1c9546c9",
   "metadata": {},
   "outputs": [],
   "source": [
    "surveys_df.dtypes"
   ]
  },
  {
   "cell_type": "markdown",
   "id": "bdd1fa18",
   "metadata": {},
   "source": [
    "All the values in a single column have the same type. For example, months have type\n",
    "`int64`, which is a kind of integer. Cells in the month column cannot have\n",
    "fractional values, but the weight and hindfoot_length columns can, because they\n",
    "have type `float64`. The `object` type doesn't have a very helpful name, but in\n",
    "this case it represents strings (such as 'M' and 'F' in the case of sex).\n",
    "\n",
    "### Useful Ways to View DataFrame objects in Python\n",
    "\n",
    "There are many ways to summarize and access the data stored in DataFrames,\n",
    "using attributes and methods provided by the DataFrame object.\n",
    "\n",
    "To access an attribute, use the DataFrame object name followed by the attribute\n",
    "name `df_object.attribute`. Using the DataFrame `surveys_df` and attribute\n",
    "`columns`, an index of all the column names in the DataFrame can be accessed\n",
    "with `surveys_df.columns`.\n",
    "\n",
    "Methods are called in a similar fashion using the syntax `df_object.method()`.\n",
    "As an example, `surveys_df.head()` gets the first few rows in the DataFrame\n",
    "`surveys_df` using **the `head()` method**. With a method, we can supply extra\n",
    "information in the parens to control behaviour.\n",
    "\n",
    "Let's look at the data using these."
   ]
  },
  {
   "cell_type": "markdown",
   "id": "668b7159",
   "metadata": {
    "tags": [
     "challenge"
    ]
   },
   "source": [
    "## Challenge - DataFrames\n",
    "\n",
    "Using our DataFrame `surveys_df`, try out the attributes & methods below to see\n",
    "what they return.\n",
    "\n",
    "1. `surveys_df.columns`\n",
    "2. `surveys_df.shape` Take note of the output of `shape` - what format does it\n",
    "   return the shape of the DataFrame in?   HINT: [More on tuples, here](https://docs.python.org/3/tutorial/datastructures.html#tuples-and-sequences).\n",
    "3. `surveys_df.head()` Also, what does `surveys_df.head(15)` do?\n",
    "4. `surveys_df.tail()`\n",
    "\n",
    "\n"
   ]
  },
  {
   "cell_type": "markdown",
   "id": "b01f675e",
   "metadata": {
    "tags": [
     "solution"
    ]
   },
   "source": [
    "## Solution - DataFrames\n",
    "\n",
    "... try it yourself !"
   ]
  },
  {
   "cell_type": "markdown",
   "id": "fe908a71",
   "metadata": {},
   "source": [
    "# Calculating Statistics From Data\n",
    "\n",
    "We've read our data into Python. Next, let's perform some quick summary\n",
    "statistics to learn more about the data that we're working with. We might want\n",
    "to know how many animals were collected in each plot, or how many of each\n",
    "species were caught. We can perform summary stats quickly using groups. But\n",
    "first we need to figure out what we want to group by.\n",
    "\n",
    "Let's begin by exploring our data:\n",
    "\n"
   ]
  },
  {
   "cell_type": "code",
   "execution_count": null,
   "id": "2dfd0b53",
   "metadata": {},
   "outputs": [],
   "source": [
    "# Look at the column names\n",
    "surveys_df.columns"
   ]
  },
  {
   "cell_type": "markdown",
   "id": "cc2ffdd6",
   "metadata": {},
   "source": [
    "Let's get a list of all the species. The `pd.unique` function tells us all of\n",
    "the unique values in the `species_id` column."
   ]
  },
  {
   "cell_type": "code",
   "execution_count": null,
   "id": "99cb78f3",
   "metadata": {},
   "outputs": [],
   "source": [
    "pd.unique(surveys_df['species_id'])"
   ]
  },
  {
   "cell_type": "markdown",
   "id": "4c71e38e",
   "metadata": {
    "tags": [
     "challenge"
    ]
   },
   "source": [
    "## Challenge - Statistics\n",
    "\n",
    "1. Create a list of unique site ID's found in the surveys data. Call it\n",
    "  `site_names`. How many unique sites are there in the data? How many unique\n",
    "  species are in the data?\n",
    "\n",
    "2. What is the difference between `len(site_names)` and `surveys_df['site_id'].nunique()`?"
   ]
  },
  {
   "cell_type": "markdown",
   "id": "61243b0d",
   "metadata": {
    "tags": [
     "solution"
    ]
   },
   "source": [
    "## Solution - Statistics"
   ]
  },
  {
   "cell_type": "code",
   "execution_count": null,
   "id": "a8a256f4",
   "metadata": {
    "tags": [
     "solution"
    ]
   },
   "outputs": [],
   "source": [
    "site_names = pd.unique(surveys_df['site_id'])\n",
    "print(len(site_names), surveys_df['site_id'].nunique())"
   ]
  },
  {
   "cell_type": "markdown",
   "id": "c9b0d32a",
   "metadata": {},
   "source": [
    "# Groups in Pandas\n",
    "\n",
    "We often want to calculate summary statistics grouped by subsets or attributes\n",
    "within fields of our data. For example, we might want to calculate the average\n",
    "weight of all individuals per site.\n",
    "\n",
    "We can calculate basic statistics for all records in a single column using the\n",
    "syntax below:"
   ]
  },
  {
   "cell_type": "code",
   "execution_count": null,
   "id": "1287a7a2",
   "metadata": {},
   "outputs": [],
   "source": [
    "surveys_df['weight'].describe()"
   ]
  },
  {
   "cell_type": "markdown",
   "id": "14d0e9a1",
   "metadata": {},
   "source": [
    "\n",
    "We can also extract one specific metric if we wish:\n",
    "\n"
   ]
  },
  {
   "cell_type": "code",
   "execution_count": null,
   "id": "f7b0f9ba",
   "metadata": {},
   "outputs": [],
   "source": [
    "surveys_df['weight'].min()\n",
    "surveys_df['weight'].max()\n",
    "surveys_df['weight'].mean()\n",
    "surveys_df['weight'].std()\n",
    "# only the last command shows output below - you can try the others above in new cells\n",
    "surveys_df['weight'].count()"
   ]
  },
  {
   "cell_type": "markdown",
   "id": "123df0c5",
   "metadata": {},
   "source": [
    "\n",
    "But if we want to summarize by one or more variables, for example sex, we can\n",
    "use **Pandas' `.groupby` method**. Once we've created a groupby DataFrame, we\n",
    "can quickly calculate summary statistics by a group of our choice.\n",
    "\n"
   ]
  },
  {
   "cell_type": "code",
   "execution_count": null,
   "id": "27f42cd4",
   "metadata": {},
   "outputs": [],
   "source": [
    "# Group data by sex\n",
    "grouped_data = surveys_df.groupby('sex')"
   ]
  },
  {
   "cell_type": "markdown",
   "id": "ba1cc866",
   "metadata": {},
   "source": [
    "\n",
    "The **pandas function `describe`** will return descriptive stats including: mean,\n",
    "median, max, min, std and count for a particular column in the data. **Note** Pandas'\n",
    "`describe` function will only return summary values for columns containing\n",
    "numeric data.\n",
    "\n"
   ]
  },
  {
   "cell_type": "code",
   "execution_count": null,
   "id": "db201990",
   "metadata": {},
   "outputs": [],
   "source": [
    "# Summary statistics for all numeric columns by sex\n",
    "grouped_data.describe()\n",
    "\n",
    "# Provide the mean for each numeric column by sex\n",
    "# As above, only the last command shows output below - you can try the others above in new cells\n",
    "grouped_data.mean()"
   ]
  },
  {
   "cell_type": "markdown",
   "id": "835686d0",
   "metadata": {},
   "source": [
    "\n",
    "The `groupby` command is powerful in that it allows us to quickly generate\n",
    "summary stats.\n",
    "\n"
   ]
  },
  {
   "cell_type": "markdown",
   "id": "d97ed769",
   "metadata": {
    "tags": [
     "challenge"
    ]
   },
   "source": [
    "## Challenge - Summary Data\n",
    "\n",
    "1. How many recorded individuals are female `F` and how many male `M`\n",
    "    - A) 17348 and 15690\n",
    "    - B) 14894 and 16476\n",
    "    - C) 15303 and 16879\n",
    "    - D) 15690 and 17348\n",
    "\n",
    "\n",
    "2. What happens when you group by two columns using the following syntax and\n",
    "    then grab mean values:\n",
    "\t- `grouped_data2 = surveys_df.groupby(['site_id','sex'])`\n",
    "\t- `grouped_data2.mean()`\n",
    "\n",
    "\n",
    "3. Summarize weight values for each site in your data. HINT: you can use the\n",
    "  following syntax to only create summary statistics for one column in your data\n",
    "  `by_site['weight'].describe()`\n",
    "\n"
   ]
  },
  {
   "cell_type": "markdown",
   "id": "4c3ab87b",
   "metadata": {
    "tags": [
     "solution"
    ]
   },
   "source": [
    "## Solution- Summary Data"
   ]
  },
  {
   "cell_type": "code",
   "execution_count": null,
   "id": "60c56720",
   "metadata": {
    "tags": [
     "solution"
    ]
   },
   "outputs": [],
   "source": [
    "## Solution Challenge 1\n",
    "grouped_data.count()"
   ]
  },
  {
   "cell_type": "markdown",
   "id": "6392ba58",
   "metadata": {
    "tags": [
     "solution"
    ]
   },
   "source": [
    "### Solution - Challenge 2\n",
    "\n",
    "The mean value for each combination of site and sex is calculated. Remark that the \n",
    "mean does not make sense for each variable, so you can specify this column-wise: \n",
    "e.g. I want to know the last survey year, median foot-length and mean weight for each site/sex combination:"
   ]
  },
  {
   "cell_type": "code",
   "execution_count": null,
   "id": "4e5d9d6c",
   "metadata": {
    "tags": [
     "solution"
    ]
   },
   "outputs": [],
   "source": [
    "# Solution- Challenge 3\n",
    "surveys_df.groupby(['site_id'])['weight'].describe()"
   ]
  },
  {
   "cell_type": "markdown",
   "id": "2d3ba1a8",
   "metadata": {
    "tags": [
     "solution"
    ]
   },
   "source": [
    "## Did you get #3 right?\n",
    " **A Snippet of the Output from part 3 of the challenge looks like:**\n",
    "\n",
    "```\n",
    "\tsite_id\n",
    "\t1     count    1903.000000\n",
    "\t      mean       51.822911\n",
    "\t      std        38.176670\n",
    "\t      min         4.000000\n",
    "\t      25%        30.000000\n",
    "\t      50%        44.000000\n",
    "\t      75%        53.000000\n",
    "\t      max       231.000000\n",
    "         ...\n",
    "```\n",
    "\n"
   ]
  },
  {
   "cell_type": "markdown",
   "id": "4f5c0318",
   "metadata": {},
   "source": [
    "## Quickly Creating Summary Counts in Pandas\n",
    "\n",
    "Let's next count the number of samples for each species. We can do this in a few\n",
    "ways, but we'll use `groupby` combined with **a `count()` method**.\n",
    "\n",
    "\n"
   ]
  },
  {
   "cell_type": "code",
   "execution_count": null,
   "id": "a88adea4",
   "metadata": {},
   "outputs": [],
   "source": [
    "# Count the number of samples by species\n",
    "species_counts = surveys_df.groupby('species_id')['record_id'].count()\n",
    "print(species_counts)"
   ]
  },
  {
   "cell_type": "markdown",
   "id": "899884f7",
   "metadata": {},
   "source": [
    "\n",
    "Or, we can also count just the rows that have the species \"DO\":\n",
    "\n"
   ]
  },
  {
   "cell_type": "code",
   "execution_count": null,
   "id": "03208afa",
   "metadata": {},
   "outputs": [],
   "source": [
    "surveys_df.groupby('species_id')['record_id'].count()['DO']"
   ]
  },
  {
   "cell_type": "markdown",
   "id": "3f907ec9",
   "metadata": {},
   "source": [
    "## Basic Math Functions\n",
    "\n",
    "If we wanted to, we could perform math on an entire column of our data. For\n",
    "example let's multiply all weight values by 2. A more practical use of this might\n",
    "be to normalize the data according to a mean, area, or some other value\n",
    "calculated from our data.\n",
    "\n"
   ]
  },
  {
   "cell_type": "code",
   "execution_count": null,
   "id": "3160d3f3",
   "metadata": {},
   "outputs": [],
   "source": [
    "# Multiply all weight values by 2 but does not change the original weight data\n",
    "surveys_df['weight']*2"
   ]
  },
  {
   "cell_type": "markdown",
   "id": "aa7cb086",
   "metadata": {
    "tags": [
     "solution"
    ]
   },
   "source": [
    "# Indexing, Slicing and Subsetting\n",
    "\n",
    "*Estimated teaching time:* 30 min\n",
    "\n",
    "*Estimated challenge time:* 30 min\n",
    "\n",
    "*Key questions:*\n",
    "\n",
    "  - \"How can I access specific data within my data set?\"\n",
    "  - \"How  can Python and Pandas help me to analyse my data?\"\n",
    "    \n",
    "*Learning objectives:*\n",
    "\n",
    "  - Describe what 0-based indexing is.\n",
    "  - Manipulate and extract data using column headings and index locations.\n",
    "  - Employ slicing to select sets of data from a DataFrame.\n",
    "  - Employ label and integer-based indexing to select ranges of data in a dataframe.\n",
    "  - Reassign values within subsets of a DataFrame.\n",
    "  - Create a copy of a DataFrame.\n",
    "  - \"Query /select a subset of data using a set of criteria using the following operators: =, !=, >, <, >=, <=.\"\n",
    "  - Locate subsets of data using masks.\n",
    "  - Describe BOOLEAN objects in Python and manipulate data using BOOLEANs.\n",
    "\n",
    "---\n",
    "\n",
    "In this lesson, we will explore **ways to access different parts of the data** in a Pandas DataFrame using:\n",
    "\n",
    "  - Indexing,\n",
    "  - Slicing, and\n",
    "  - Subsetting"
   ]
  },
  {
   "cell_type": "markdown",
   "id": "42d7a6e1",
   "metadata": {},
   "source": [
    "# Indexing, Slicing and Subsetting\n",
    "\n",
    "\n",
    "In this lesson, we will explore **ways to access different parts of the data** in a Pandas DataFrame using:\n",
    "\n",
    "  - Indexing,\n",
    "  - Slicing, and\n",
    "  - Subsetting"
   ]
  },
  {
   "cell_type": "markdown",
   "id": "93de27ae",
   "metadata": {},
   "source": [
    "## Ensure the Pandas package is installed"
   ]
  },
  {
   "cell_type": "code",
   "execution_count": null,
   "id": "1e0c664f",
   "metadata": {},
   "outputs": [],
   "source": [
    "!pip install pandas matplotlib"
   ]
  },
  {
   "cell_type": "markdown",
   "id": "cef34f02",
   "metadata": {},
   "source": [
    "## Loading our data\n",
    "\n",
    "We will continue to use the surveys dataset that we worked with in the last lesson. Let's reopen and read in the data again:\n",
    "\n"
   ]
  },
  {
   "cell_type": "code",
   "execution_count": null,
   "id": "94252f59",
   "metadata": {},
   "outputs": [],
   "source": [
    "# Make sure pandas is loaded\n",
    "import pandas as pd\n",
    "\n",
    "# Read in the survey CSV\n",
    "surveys_df = pd.read_csv(\"surveys.csv\")"
   ]
  },
  {
   "cell_type": "markdown",
   "id": "54ecb6b8",
   "metadata": {},
   "source": [
    "## Indexing and Slicing in Python\n",
    "\n",
    "We often want to work with subsets of a **DataFrame** object. There are\n",
    "different ways to accomplish this including: using labels (column headings),\n",
    "numeric ranges, or specific x,y index locations.\n",
    "\n",
    "\n"
   ]
  },
  {
   "cell_type": "markdown",
   "id": "afd57c4f",
   "metadata": {},
   "source": [
    "## Selecting data using Labels (Column Headings)\n",
    "\n",
    "We use square brackets `[]` to select a subset of an Python object. For example,\n",
    "we can select all data from a column named `species_id` from the `surveys_df`\n",
    "DataFrame by name. There are two ways to do this:\n",
    "\n"
   ]
  },
  {
   "cell_type": "code",
   "execution_count": null,
   "id": "4ba10c81",
   "metadata": {},
   "outputs": [],
   "source": [
    "# Method 1: select a 'subset' of the data using the column name\n",
    "surveys_df['species_id'].head()"
   ]
  },
  {
   "cell_type": "code",
   "execution_count": null,
   "id": "d2db3a3d",
   "metadata": {},
   "outputs": [],
   "source": [
    "# Method 2: use the column name as an 'attribute'; gives the same output\n",
    "surveys_df.species_id.head()"
   ]
  },
  {
   "cell_type": "markdown",
   "id": "8a1dd08a",
   "metadata": {},
   "source": [
    "\n",
    "We can also create a new object that contains only the data within the\n",
    "`species_id` column as follows:\n",
    "\n"
   ]
  },
  {
   "cell_type": "code",
   "execution_count": null,
   "id": "3305b576",
   "metadata": {},
   "outputs": [],
   "source": [
    "# Creates an object, surveys_species, that only contains the `species_id` column\n",
    "surveys_species = surveys_df['species_id']"
   ]
  },
  {
   "cell_type": "markdown",
   "id": "ac0c6740",
   "metadata": {},
   "source": [
    "\n",
    "We can pass a list of column names too, as an index to select columns in that\n",
    "order. This is useful when we need to reorganize our data.\n",
    "\n",
    "**NOTE:** If a column name is not contained in the DataFrame, an exception\n",
    "(error) will be raised.\n",
    "\n"
   ]
  },
  {
   "cell_type": "code",
   "execution_count": null,
   "id": "a09d8e1f",
   "metadata": {},
   "outputs": [],
   "source": [
    "# Select the species and plot columns from the DataFrame\n",
    "surveys_df[['species_id', 'site_id']].head()"
   ]
  },
  {
   "cell_type": "markdown",
   "id": "a4b8277b",
   "metadata": {},
   "source": [
    "\n",
    "What happens if you ask for a column that doesn't exist?\n",
    "\n",
    "```python\n",
    "surveys_df['speciess']\n",
    "```\n",
    "\n",
    "Outputs:"
   ]
  },
  {
   "cell_type": "markdown",
   "id": "753f55c6",
   "metadata": {},
   "source": [
    "```python\n",
    "---------------------------------------------------------------------------\n",
    "KeyError                                  Traceback (most recent call last)\n",
    "/Applications/anaconda/lib/python3.6/site-packages/pandas/core/indexes/base.py in get_loc(self, key, method, tolerance)\n",
    "   2392             try:\n",
    "-> 2393                 return self._engine.get_loc(key)\n",
    "   2394             except KeyError:\n",
    "\n",
    "pandas/_libs/index.pyx in pandas._libs.index.IndexEngine.get_loc (pandas/_libs/index.c:5239)()\n",
    "\n",
    "pandas/_libs/index.pyx in pandas._libs.index.IndexEngine.get_loc (pandas/_libs/index.c:5085)()\n",
    "\n",
    "pandas/_libs/hashtable_class_helper.pxi in pandas._libs.hashtable.PyObjectHashTable.get_item (pandas/_libs/hashtable.c:20405)()\n",
    "\n",
    "pandas/_libs/hashtable_class_helper.pxi in pandas._libs.hashtable.PyObjectHashTable.get_item (pandas/_libs/hashtable.c:20359)()\n",
    "\n",
    "KeyError: 'speciess'\n",
    "\n",
    "During handling of the above exception, another exception occurred:\n",
    "\n",
    "KeyError                                  Traceback (most recent call last)\n",
    "<ipython-input-7-7d65fa0158b8> in <module>()\n",
    "      1 \n",
    "      2 # What happens if you ask for a column that doesn't exist?\n",
    "----> 3 surveys_df['speciess']\n",
    "      4 \n",
    "\n",
    "/Applications/anaconda/lib/python3.6/site-packages/pandas/core/frame.py in __getitem__(self, key)\n",
    "   2060             return self._getitem_multilevel(key)\n",
    "   2061         else:\n",
    "-> 2062             return self._getitem_column(key)\n",
    "   2063 \n",
    "   2064     def _getitem_column(self, key):\n",
    "\n",
    "/Applications/anaconda/lib/python3.6/site-packages/pandas/core/frame.py in _getitem_column(self, key)\n",
    "   2067         # get column\n",
    "   2068         if self.columns.is_unique:\n",
    "-> 2069             return self._get_item_cache(key)\n",
    "   2070 \n",
    "   2071         # duplicate columns & possible reduce dimensionality\n",
    "\n",
    "/Applications/anaconda/lib/python3.6/site-packages/pandas/core/generic.py in _get_item_cache(self, item)\n",
    "   1532         res = cache.get(item)\n",
    "   1533         if res is None:\n",
    "-> 1534             values = self._data.get(item)\n",
    "   1535             res = self._box_item_values(item, values)\n",
    "   1536             cache[item] = res\n",
    "\n",
    "/Applications/anaconda/lib/python3.6/site-packages/pandas/core/internals.py in get(self, item, fastpath)\n",
    "   3588 \n",
    "   3589             if not isnull(item):\n",
    "-> 3590                 loc = self.items.get_loc(item)\n",
    "   3591             else:\n",
    "   3592                 indexer = np.arange(len(self.items))[isnull(self.items)]\n",
    "\n",
    "/Applications/anaconda/lib/python3.6/site-packages/pandas/core/indexes/base.py in get_loc(self, key, method, tolerance)\n",
    "   2393                 return self._engine.get_loc(key)\n",
    "   2394             except KeyError:\n",
    "-> 2395                 return self._engine.get_loc(self._maybe_cast_indexer(key))\n",
    "   2396 \n",
    "   2397         indexer = self.get_indexer([key], method=method, tolerance=tolerance)\n",
    "\n",
    "pandas/_libs/index.pyx in pandas._libs.index.IndexEngine.get_loc (pandas/_libs/index.c:5239)()\n",
    "\n",
    "pandas/_libs/index.pyx in pandas._libs.index.IndexEngine.get_loc (pandas/_libs/index.c:5085)()\n",
    "\n",
    "pandas/_libs/hashtable_class_helper.pxi in pandas._libs.hashtable.PyObjectHashTable.get_item (pandas/_libs/hashtable.c:20405)()\n",
    "\n",
    "pandas/_libs/hashtable_class_helper.pxi in pandas._libs.hashtable.PyObjectHashTable.get_item (pandas/_libs/hashtable.c:20359)()\n",
    "\n",
    "KeyError: 'speciess'\n",
    "```"
   ]
  },
  {
   "cell_type": "markdown",
   "id": "35f67036",
   "metadata": {},
   "source": [
    "Python tells us what type of error it is in the traceback, at the bottom it says `KeyError: 'speciess'` which means that `speciess` is not a column name (or Key in the related python data type dictionary)."
   ]
  },
  {
   "cell_type": "code",
   "execution_count": null,
   "id": "33d3ff30",
   "metadata": {},
   "outputs": [],
   "source": [
    "# What happens when you flip the order?\n",
    "surveys_df[['site_id', 'species_id']].head()"
   ]
  },
  {
   "cell_type": "markdown",
   "id": "445d668b",
   "metadata": {},
   "source": [
    "## Extracting Range based Subsets: Slicing\n",
    "\n",
    "**REMINDER**: Python Uses 0-based Indexing\n",
    "\n",
    "Let's remind ourselves that Python uses 0-based\n",
    "indexing. This means that the first element in an object is located at position\n",
    "0. This is different from other tools like R and Matlab that index elements\n",
    "within objects starting at 1.\n",
    "\n"
   ]
  },
  {
   "cell_type": "code",
   "execution_count": null,
   "id": "c4637e8b",
   "metadata": {},
   "outputs": [],
   "source": [
    "# Create a list of numbers:\n",
    "a = [1, 2, 3, 4, 5]"
   ]
  },
  {
   "cell_type": "markdown",
   "id": "e9ef14a9",
   "metadata": {},
   "source": [
    "![indexing diagram](images/slicing-indexing.svg)\n",
    "![slicing diagram](images/slicing-slicing.svg)"
   ]
  },
  {
   "cell_type": "markdown",
   "id": "6e0694c2",
   "metadata": {
    "tags": [
     "challenge"
    ]
   },
   "source": [
    "## Challenge - Extracting data\n",
    "\n",
    "1. What value does the code **a[0]** return?\n",
    "\n",
    "2. How about this: **a[5]**\n",
    "\n",
    "3. In the example above, calling `a[5]` returns an error. Why is that?\n",
    "\n",
    "4. What about **a[len(a)]** ?\n",
    "\n",
    "\n"
   ]
  },
  {
   "cell_type": "markdown",
   "id": "3fd3afac",
   "metadata": {},
   "source": [
    "## Solutions - Extracting data"
   ]
  },
  {
   "cell_type": "code",
   "execution_count": null,
   "id": "fc4f11ce",
   "metadata": {
    "tags": [
     "solution"
    ]
   },
   "outputs": [],
   "source": [
    "a[0]"
   ]
  },
  {
   "cell_type": "code",
   "execution_count": null,
   "id": "ef148077",
   "metadata": {
    "tags": [
     "solution"
    ]
   },
   "outputs": [],
   "source": [
    "# Solution #2\n",
    "# a[5]"
   ]
  },
  {
   "cell_type": "markdown",
   "id": "2f22c294",
   "metadata": {
    "tags": [
     "solution"
    ]
   },
   "source": [
    "#### Solution #2\n",
    "\n",
    "In above example, the error says `list index out of range`. This means we don't have index 5 in our list. The maximum index for `a` is `4`, as indexing starts at `0`."
   ]
  },
  {
   "cell_type": "code",
   "execution_count": null,
   "id": "ac76cb8d",
   "metadata": {
    "tags": [
     "solution"
    ]
   },
   "outputs": [],
   "source": [
    "# Solution #3\n",
    "# a[len(a)]"
   ]
  },
  {
   "cell_type": "markdown",
   "id": "cecfb780",
   "metadata": {
    "tags": [
     "solution"
    ]
   },
   "source": [
    "#### Solution - # 4 - Extracting data \n",
    "This also gives an error, because len(a) is `5` which is not the maximum index"
   ]
  },
  {
   "cell_type": "markdown",
   "id": "95503ef9",
   "metadata": {},
   "source": [
    "## Slicing Subsets of Rows in Python\n",
    "\n",
    "Slicing using the `[]` operator selects a set of rows and/or columns from a\n",
    "DataFrame. To slice out a set of rows, you use the following syntax:\n",
    "`data[start:stop]`. When slicing in pandas the start bound is included in the\n",
    "output. The stop bound is one step BEYOND the row you want to select. So if you\n",
    "want to select rows 0, 1 and 2 your code would look like this with our `surveys data`:\n",
    "\n"
   ]
  },
  {
   "cell_type": "code",
   "execution_count": null,
   "id": "25196acd",
   "metadata": {},
   "outputs": [],
   "source": [
    "# Select rows 0, 1, 2 (row 3 is not selected)\n",
    "surveys_df[0:3]"
   ]
  },
  {
   "cell_type": "markdown",
   "id": "ca527d6b",
   "metadata": {},
   "source": [
    "\n",
    "The stop bound in Python is different from what you might be used to in\n",
    "languages like Matlab and R.\n",
    "\n",
    "Now lets select the `first 5 rows (rows 0, 1, 2, 3, 4)`.\n"
   ]
  },
  {
   "cell_type": "code",
   "execution_count": null,
   "id": "d360c31f",
   "metadata": {},
   "outputs": [],
   "source": [
    "surveys_df[:5]"
   ]
  },
  {
   "cell_type": "code",
   "execution_count": null,
   "id": "4011063f",
   "metadata": {},
   "outputs": [],
   "source": [
    "# Select the last element in the list\n",
    "# (the slice starts at the last element, and ends at the end of the list)\n",
    "surveys_df[-1:]"
   ]
  },
  {
   "cell_type": "markdown",
   "id": "983f1bee",
   "metadata": {},
   "source": [
    "\n",
    "We can also reassign values within subsets of our DataFrame.\n",
    "\n",
    "\n",
    "Let's create a brand new clean dataframe from\n",
    "the original data CSV file.\n",
    "\n"
   ]
  },
  {
   "cell_type": "code",
   "execution_count": null,
   "id": "d46d7bd0",
   "metadata": {},
   "outputs": [],
   "source": [
    "surveys_df = pd.read_csv(\"surveys.csv\")"
   ]
  },
  {
   "cell_type": "markdown",
   "id": "96415491",
   "metadata": {},
   "source": [
    "## Slicing Subsets of Rows and Columns in Python\n",
    "\n",
    "We can select specific ranges of our data in both the row and column directions\n",
    "using either label or integer-based indexing.\n",
    "\n",
    "- `loc` is primarily *label* based indexing. *Integers* may be used but\n",
    "  they are interpreted as a *label*.\n",
    "- `iloc` is primarily *integer* based indexing\n",
    "\n",
    "To select a subset of rows **and** columns from our DataFrame, we can use the\n",
    "`iloc` method. For example, we can select month, day and year (columns 2, 3\n",
    "and 4 if we start counting at 1), like this:\n",
    "\n",
    "`iloc[row slicing, column slicing]`\n",
    "\n"
   ]
  },
  {
   "cell_type": "code",
   "execution_count": null,
   "id": "55109597",
   "metadata": {},
   "outputs": [],
   "source": [
    "surveys_df.iloc[0:3, 1:4]"
   ]
  },
  {
   "cell_type": "markdown",
   "id": "c51cc843",
   "metadata": {},
   "source": [
    "Notice that we asked for a slice from 0:3. This yielded 3 rows of data. When you\n",
    "ask for 0:3, you are actually telling Python to start at index 0 and select rows\n",
    "0, 1, 2 **up to but not including 3**.\n",
    "\n",
    "Let's explore some other ways to index and select subsets of data:\n",
    "\n"
   ]
  },
  {
   "cell_type": "code",
   "execution_count": null,
   "id": "49f4c944",
   "metadata": {},
   "outputs": [],
   "source": [
    "# Select all columns for rows of index values 0 and 10\n",
    "surveys_df.loc[[0, 10], :]"
   ]
  },
  {
   "cell_type": "code",
   "execution_count": null,
   "id": "88be5687",
   "metadata": {},
   "outputs": [],
   "source": [
    "# What does this do?\n",
    "surveys_df.loc[0, ['species_id', 'site_id', 'weight']]"
   ]
  },
  {
   "cell_type": "code",
   "execution_count": null,
   "id": "5f20f3c1",
   "metadata": {},
   "outputs": [],
   "source": [
    "# What happens when you type the code below?\n",
    "surveys_df.loc[[0, 10, 35549], :]"
   ]
  },
  {
   "cell_type": "markdown",
   "id": "2f9b56ad",
   "metadata": {},
   "source": [
    "\n",
    "**NOTE**: Labels must be found in the DataFrame or you will get a `KeyError`.\n",
    "\n",
    "Indexing by labels `loc` differs from indexing by integers `iloc`.\n",
    "With `loc`, the both start bound and the stop bound are **inclusive**. When using\n",
    "`loc`, integers *can* be used, but the integers refer to the\n",
    "index label and not the position. For example, using `loc` and select 1:4\n",
    "will get a different result than using `iloc` to select rows 1:4.\n",
    "\n",
    "We can also select a specific data value using a row and\n",
    "column location within the DataFrame and `iloc` indexing:\n",
    "\n",
    "```python\n",
    "# Syntax for iloc indexing to finding a specific data element\n",
    "dat.iloc[row, column]\n",
    "```\n",
    "\n",
    "In following iloc example:"
   ]
  },
  {
   "cell_type": "code",
   "execution_count": null,
   "id": "1486a25f",
   "metadata": {},
   "outputs": [],
   "source": [
    "surveys_df.iloc[2, 6]"
   ]
  },
  {
   "cell_type": "markdown",
   "id": "73a1d637",
   "metadata": {},
   "source": [
    "Remember that Python indexing begins at 0. So, the index location [2, 6]\n",
    "selects the element that is 3 rows down and 7 columns over in the DataFrame."
   ]
  },
  {
   "cell_type": "markdown",
   "id": "ab6c5bab",
   "metadata": {
    "tags": [
     "challenge"
    ]
   },
   "source": [
    "## Challenge - Range\n",
    "\n",
    "1. What happens when you execute:\n",
    "\n",
    "       - `surveys_df[0:1]`\n",
    "       - `surveys_df[:4]`\n",
    "       - `surveys_df[:-1]`\n",
    "\n",
    "2. What happens when you call:\n",
    "\n",
    "       - `surveys_df.iloc[0:4, 1:4]`\n"
   ]
  },
  {
   "cell_type": "markdown",
   "id": "354018c2",
   "metadata": {
    "tags": [
     "solution"
    ]
   },
   "source": [
    "## Solution - Range"
   ]
  },
  {
   "cell_type": "code",
   "execution_count": null,
   "id": "f62ea350",
   "metadata": {
    "tags": [
     "solution"
    ]
   },
   "outputs": [],
   "source": [
    "# Solution - Range - #1 (a)\n",
    "surveys_df[0:1]"
   ]
  },
  {
   "cell_type": "code",
   "execution_count": null,
   "id": "da964602",
   "metadata": {
    "tags": [
     "solution"
    ]
   },
   "outputs": [],
   "source": [
    "# Solution - Range - #1 (b)\n",
    "surveys_df[:4]"
   ]
  },
  {
   "cell_type": "code",
   "execution_count": null,
   "id": "a5b299df",
   "metadata": {
    "tags": [
     "solution"
    ]
   },
   "outputs": [],
   "source": [
    "# Solution - Range - #1 (c)\n",
    "surveys_df[:-1]"
   ]
  },
  {
   "cell_type": "code",
   "execution_count": null,
   "id": "1ebf9585",
   "metadata": {
    "tags": [
     "solution"
    ]
   },
   "outputs": [],
   "source": [
    "# Solution - Range - #2\n",
    "surveys_df.iloc[0:4, 1:4]"
   ]
  },
  {
   "cell_type": "markdown",
   "id": "5e422181",
   "metadata": {},
   "source": [
    "## Subsetting Data using Criteria\n",
    "\n",
    "We can also select a subset of our data using criteria. For example, we can\n",
    "select all rows that `have a year value of 2002`:\n",
    "\n"
   ]
  },
  {
   "cell_type": "code",
   "execution_count": null,
   "id": "6cb4e8ad",
   "metadata": {},
   "outputs": [],
   "source": [
    "surveys_df[surveys_df.year == 2002].head()"
   ]
  },
  {
   "cell_type": "markdown",
   "id": "eae2b039",
   "metadata": {},
   "source": [
    "\n",
    "Or we can select all rows that `do not contain the year 2002`:\n",
    "\n"
   ]
  },
  {
   "cell_type": "code",
   "execution_count": null,
   "id": "2411ed60",
   "metadata": {},
   "outputs": [],
   "source": [
    "surveys_df[surveys_df.year != 2002]"
   ]
  },
  {
   "cell_type": "markdown",
   "id": "03a63385",
   "metadata": {},
   "source": [
    "\n",
    "We can define sets of criteria too:\n",
    "\n"
   ]
  },
  {
   "cell_type": "code",
   "execution_count": null,
   "id": "370a0815",
   "metadata": {},
   "outputs": [],
   "source": [
    "surveys_df[(surveys_df.year >= 1980) & (surveys_df.year <= 1985)]"
   ]
  },
  {
   "cell_type": "markdown",
   "id": "c028c593",
   "metadata": {},
   "source": [
    "\n",
    "### Python Syntax Cheat Sheet\n",
    "\n",
    "Use can use the syntax below when querying data by criteria from a DataFrame.\n",
    "Experiment with selecting various subsets of the \"surveys\" data.\n",
    "\n",
    "* Equals: `==`\n",
    "* Not equals: `!=`\n",
    "* Greater than, less than: `>` or `<`\n",
    "* Greater than or equal to `>=`\n",
    "* Less than or equal to `<=`\n",
    "\n",
    "\n"
   ]
  },
  {
   "cell_type": "markdown",
   "id": "a745b474",
   "metadata": {
    "tags": [
     "challenge"
    ]
   },
   "source": [
    "## Challenge - Queries\n",
    "\n",
    "1. Select a subset of rows in the `surveys_df` DataFrame that contain data from\n",
    "   the year 1999 and that contain weight values less than or equal to 8. How\n",
    "   many rows did you end up with? What did your neighbor get?\n",
    "\n",
    "2. **(Extra)** Use the `isin` function to find all plots that contain `PB` and `PL` species\n",
    "in the \"surveys\" DataFrame. How many records contain these values?\n",
    "\n",
    "You can use the `isin` command in Python to query a DataFrame based upon a\n",
    "   list of values as follows:\n",
    "\n",
    "```python\n",
    "surveys_df[surveys_df['species_id'].isin([listGoesHere])]\n",
    "```\n"
   ]
  },
  {
   "cell_type": "markdown",
   "id": "5334d43d",
   "metadata": {
    "tags": [
     "solution"
    ]
   },
   "source": [
    "## Solution - Queries "
   ]
  },
  {
   "cell_type": "code",
   "execution_count": null,
   "id": "a2f8f387",
   "metadata": {
    "tags": [
     "solution"
    ]
   },
   "outputs": [],
   "source": [
    "## Solution - Queries #1\n",
    "surveys_df[(surveys_df[\"year\"] == 1999) & (surveys_df[\"weight\"] <= 8)]"
   ]
  },
  {
   "cell_type": "code",
   "execution_count": null,
   "id": "d562d3f5",
   "metadata": {
    "tags": [
     "solution"
    ]
   },
   "outputs": [],
   "source": [
    "# when only interested in how many, the sum of True values could be used as well: \n",
    "sum((surveys_df[\"year\"] == 1999) & (surveys_df[\"weight\"] <= 8))"
   ]
  },
  {
   "cell_type": "code",
   "execution_count": null,
   "id": "e08e78d9",
   "metadata": {
    "tags": [
     "solution"
    ]
   },
   "outputs": [],
   "source": [
    "# Solution - Queries #2\n",
    "surveys_df[surveys_df['species_id'].isin(['PB', 'PL'])]['site_id'].unique()"
   ]
  },
  {
   "cell_type": "code",
   "execution_count": null,
   "id": "7806f913",
   "metadata": {
    "tags": [
     "solution"
    ]
   },
   "outputs": [],
   "source": [
    "# To get number of records\n",
    "surveys_df[surveys_df['species_id'].isin(['PB', 'PL'])].shape"
   ]
  },
  {
   "cell_type": "markdown",
   "id": "73f3d3d8",
   "metadata": {
    "tags": [
     "challenge"
    ]
   },
   "source": [
    "## Extra Challenges\n",
    "\n",
    "\n",
    "3. **(Extra)** Create a query that finds all rows with a\n",
    "   weight value greater than (`>`) or equal to 0.\n",
    "\n",
    "4. **(Extra)** The `~` symbol in Python can be used to return the OPPOSITE of the\n",
    "   selection that you specify in Python. It is equivalent to **is not in**.\n",
    "   Write a query that selects all rows with sex NOT equal to 'M' or 'F' in\n",
    "   the \"surveys\" data."
   ]
  },
  {
   "cell_type": "code",
   "execution_count": null,
   "id": "1505f781",
   "metadata": {
    "tags": [
     "solution"
    ]
   },
   "outputs": [],
   "source": [
    "sum(surveys_df[\"weight\"]>=0)"
   ]
  },
  {
   "cell_type": "code",
   "execution_count": null,
   "id": "4d0f9a78",
   "metadata": {
    "tags": [
     "solution"
    ]
   },
   "outputs": [],
   "source": [
    "surveys_df[~surveys_df[\"sex\"].isin(['M', 'F'])]\n"
   ]
  },
  {
   "cell_type": "markdown",
   "id": "1e4f5caa",
   "metadata": {},
   "source": [
    "# Using masks to identify a specific condition\n",
    "\n",
    "A **mask** can be useful to locate where a particular subset of values exist or\n",
    "don't exist - for example,  NaN, or \"Not a Number\" values. To understand masks,\n",
    "we also need to understand `BOOLEAN` objects in Python.\n",
    "\n",
    "Boolean values include `True` or `False`. For example,"
   ]
  },
  {
   "cell_type": "code",
   "execution_count": null,
   "id": "55b71f5a",
   "metadata": {},
   "outputs": [],
   "source": [
    "# Set x to 5\n",
    "x = 5"
   ]
  },
  {
   "cell_type": "code",
   "execution_count": null,
   "id": "dcb6ccd2",
   "metadata": {},
   "outputs": [],
   "source": [
    "# What does the code below return?\n",
    "x > 5"
   ]
  },
  {
   "cell_type": "code",
   "execution_count": null,
   "id": "cf90bbbd",
   "metadata": {},
   "outputs": [],
   "source": [
    "# How about this?\n",
    "x == 5"
   ]
  },
  {
   "cell_type": "markdown",
   "id": "16a110c1",
   "metadata": {
    "tags": [
     "challenge"
    ]
   },
   "source": [
    "## _Extra Challenges - Putting it all together_\n",
    "\n",
    " 1. Create a new DataFrame that only contains observations with sex values that\n",
    "   are **not** female or male. Assign each sex value in the new DataFrame to a\n",
    "   new value of 'x'. Determine the number of null values in the subset.\n",
    "   \n",
    " 2. Create a new DataFrame that contains only observations that are of sex male\n",
    "   or female and where weight values are greater than 0. Create a stacked bar\n",
    "   plot of average weight by plot with male vs female values stacked for each\n",
    "   plot.\n",
    "  3. Count the number of missing values per column. Hint: The method .count() gives you the number of non-NA observations per column. \n",
    "\n"
   ]
  },
  {
   "cell_type": "markdown",
   "id": "96bb327b",
   "metadata": {
    "tags": [
     "solution"
    ]
   },
   "source": [
    "## Solution _Extra Challenges_"
   ]
  },
  {
   "cell_type": "code",
   "execution_count": null,
   "id": "8f5d0862",
   "metadata": {
    "tags": [
     "solution"
    ]
   },
   "outputs": [],
   "source": [
    "# Solution extra challenge 1\n",
    "new = surveys_df[~surveys_df['sex'].isin(['M', 'F'])].copy()\n",
    "new['sex']='x'\n",
    "print(len(new))"
   ]
  },
  {
   "cell_type": "code",
   "execution_count": null,
   "id": "b2990ec9",
   "metadata": {
    "tags": [
     "solution"
    ]
   },
   "outputs": [],
   "source": [
    "# We can verify the number of NaN values with\n",
    "sum(surveys_df['sex'].isnull())"
   ]
  },
  {
   "cell_type": "code",
   "execution_count": null,
   "id": "cf4d8510",
   "metadata": {},
   "outputs": [],
   "source": [
    "# Solution extra challenge 2\n",
    "\n",
    "# selection of the data with isin\n",
    "stack_selection = surveys_df[(surveys_df['sex'].isin(['M', 'F'])) &\n",
    "\t\t\t\t\t\t\tsurveys_df[\"weight\"] > 0.][[\"sex\", \"weight\", \"site_id\"]]\n",
    "\n",
    "# calculate the mean weight for each site id and sex combination:\n",
    "stack_selection = stack_selection.groupby([\"site_id\", \"sex\"]).mean().unstack()\n",
    "\n",
    "# Plot inside jupyter notebook\n",
    "%matplotlib inline\n",
    "\n",
    "# and we can make a stacked bar plot from this:\n",
    "stack_selection.plot(kind='bar', stacked=True)"
   ]
  },
  {
   "cell_type": "markdown",
   "id": "f823947c",
   "metadata": {},
   "source": [
    "# Combining DataFrames with Pandas\n",
    "\n",
    "In many “real world” situations, the data that we want to use come in multiple files. We often need to combine these files into a single DataFrame to analyze the data. The pandas package provides various methods for combining DataFrames including `merge` and `concat`."
   ]
  },
  {
   "cell_type": "markdown",
   "id": "8eb49d50",
   "metadata": {},
   "source": [
    "To work through the examples below, we first need to load the species and surveys files into pandas DataFrames. Before we start, we will make sure that libraries are currectly installed. "
   ]
  },
  {
   "cell_type": "code",
   "execution_count": null,
   "id": "56685075",
   "metadata": {},
   "outputs": [],
   "source": [
    "import pandas as pd\n",
    "surveys_df = pd.read_csv(\"surveys.csv\",\n",
    "                         keep_default_na=False, na_values=[\"\"])\n",
    "surveys_df"
   ]
  },
  {
   "cell_type": "markdown",
   "id": "e121260c",
   "metadata": {},
   "source": [
    "## Concatenating DataFrames\n",
    "\n",
    "We can use the concat function in pandas to append either columns or rows from one DataFrame to another. Let’s grab two subsets of our data to see how this works."
   ]
  },
  {
   "cell_type": "code",
   "execution_count": null,
   "id": "54b5893f",
   "metadata": {},
   "outputs": [],
   "source": [
    "# Read in first 10 lines of surveys table\n",
    "survey_sub = surveys_df.head(10)\n",
    "# Grab the last 10 rows\n",
    "survey_sub_last10 = surveys_df.tail(10)\n",
    "# Reset the index values to the second dataframe appends properly\n",
    "survey_sub_last10=survey_sub_last10.reset_index(drop=True)\n",
    "# drop=True option avoids adding new index column with old index values"
   ]
  },
  {
   "cell_type": "markdown",
   "id": "98feef91",
   "metadata": {},
   "source": [
    "When we concatenate DataFrames, we need to specify the axis. axis=0 tells pandas to stack the second DataFrame under the first one. It will automatically detect whether the column names are the same and will stack accordingly. axis=1 will stack the columns in the second DataFrame to the RIGHT of the first DataFrame. To stack the data vertically, we need to make sure we have the same columns and associated column format in both datasets. When we stack horizonally, we want to make sure what we are doing makes sense (ie the data are related in some way)."
   ]
  },
  {
   "cell_type": "code",
   "execution_count": null,
   "id": "c744591c",
   "metadata": {},
   "outputs": [],
   "source": [
    "# Stack the DataFrames on top of each other\n",
    "vertical_stack = pd.concat([survey_sub, survey_sub_last10], axis=0)\n",
    "\n",
    "# Place the DataFrames side by side\n",
    "horizontal_stack = pd.concat([survey_sub, survey_sub_last10], axis=1)"
   ]
  },
  {
   "cell_type": "markdown",
   "id": "1192b261",
   "metadata": {},
   "source": [
    "### Row Index Values and Concat"
   ]
  },
  {
   "cell_type": "markdown",
   "id": "6564de78",
   "metadata": {},
   "source": [
    "Have a look at the `vertical_stack` dataframe? Notice anything unusual? The row indexes for the two data frames `survey_sub` and `survey_sub_last10` have been repeated. We can reindex the new dataframe using the reset_index() method.\n",
    "\n"
   ]
  },
  {
   "cell_type": "markdown",
   "id": "1d968869",
   "metadata": {},
   "source": [
    "## Writing Out Data to CSV\n",
    "\n",
    "We can use the to_csv command to do export a DataFrame in CSV format. Note that the code below will by default save the data into the current working directory. We can save it to a different folder by adding the foldername and a slash to the file `vertical_stack.to_csv('foldername/out.csv')`. We use the ‘index=False’ so that pandas doesn’t include the index number for each line."
   ]
  },
  {
   "cell_type": "code",
   "execution_count": null,
   "id": "323003bc",
   "metadata": {},
   "outputs": [],
   "source": [
    "# Write DataFrame to CSV\n",
    "vertical_stack.to_csv('output/out.csv', index=False)"
   ]
  },
  {
   "cell_type": "markdown",
   "id": "78cd6075",
   "metadata": {},
   "source": [
    "Check out your working directory to make sure the CSV wrote out properly, and that you can open it! If you want, try to bring it back into Python to make sure it imports properly."
   ]
  },
  {
   "cell_type": "code",
   "execution_count": null,
   "id": "1b2557f6",
   "metadata": {},
   "outputs": [],
   "source": [
    "# For kicks read our output back into Python and make sure all looks good\n",
    "new_output = pd.read_csv('output/out.csv', keep_default_na=False, na_values=[\"\"])"
   ]
  },
  {
   "cell_type": "markdown",
   "id": "54e7d19a",
   "metadata": {
    "tags": [
     "challenge"
    ]
   },
   "source": [
    "## Challenge - Combine Data\n",
    "\n",
    "In the data folder, there are two survey data files: survey2001.csv and survey2002.csv. Read the data into Python and combine the files to make one new data frame. Create a plot of average plot weight by year grouped by sex. Export your results as a CSV and make sure it reads back into Python properly."
   ]
  },
  {
   "cell_type": "markdown",
   "id": "cf83655d",
   "metadata": {},
   "source": [
    "## Joining DataFrames\n",
    "\n",
    "When we concatenated our DataFrames we simply added them to each other - stacking them either vertically or side by side. Another way to combine DataFrames is to use columns in each dataset that contain common values (a common unique id). Combining DataFrames using a common field is called “joining”. The columns containing the common values are called “join key(s)”. Joining DataFrames in this way is often useful when one DataFrame is a “lookup table” containing additional data that we want to include in the other.\n",
    "\n",
    "NOTE: This process of joining tables is similar to what we do with tables in an SQL database.\n",
    "\n",
    "For example, the `species.csv` file that we’ve been working with is a lookup table. This table contains the genus, species and taxa code for 55 species. The species code is unique for each line. These species are identified in our survey data as well using the unique species code. Rather than adding 3 more columns for the genus, species and taxa to each of the 35,549 line Survey data table, we can maintain the shorter table with the species information. When we want to access that information, we can create a query that joins the additional columns of information to the Survey data.\n",
    "\n",
    "Storing data in this way has many benefits including:\n",
    "\n",
    " 1. It ensures consistency in the spelling of species attributes (genus, species and taxa) given each species is only entered once. Imagine the possibilities for spelling errors when entering the genus and species thousands of times!\n",
    " 2. It also makes it easy for us to make changes to the species information once without having to find each instance of it in the larger survey data.\n",
    " 3. It optimizes the size of our data."
   ]
  },
  {
   "cell_type": "markdown",
   "id": "6a17b745",
   "metadata": {},
   "source": [
    "### Joining Two DataFrames\n",
    "\n",
    "To better understand joins, let’s grab the first 10 lines of our data as a subset to work with. We’ll use the `.head` method to do this. We’ll also read in a subset of the species table."
   ]
  },
  {
   "cell_type": "code",
   "execution_count": null,
   "id": "91b501b3",
   "metadata": {},
   "outputs": [],
   "source": [
    "# Read in first 10 lines of surveys table\n",
    "survey_sub = surveys_df.head(10)\n",
    "\n",
    "### Download speciesSubset.csv file from web\n",
    "import urllib.request\n",
    "\n",
    "url = 'https://raw.githubusercontent.com/nils-holmberg/sfac-py/main/csv/speciesSubset.csv'\n",
    "\n",
    "\n",
    "urllib.request.urlretrieve(url, 'speciesSubset.csv')\n",
    "\n",
    "# Import a small subset of the species data designed for this part of the lesson.\n",
    "# It is stored in the data folder.\n",
    "species_sub = pd.read_csv('speciesSubset.csv', keep_default_na=False, na_values=[\"\"])"
   ]
  },
  {
   "cell_type": "markdown",
   "id": "26bbf654",
   "metadata": {},
   "source": [
    "In this example, `species_sub` is the lookup table containing genus, species, and taxa names that we want to join with the data in `survey_sub` to produce a new DataFrame that contains all of the columns from both `species_df` and `survey_df`"
   ]
  },
  {
   "cell_type": "code",
   "execution_count": null,
   "id": "45ee1602",
   "metadata": {},
   "outputs": [],
   "source": [
    "species_sub.columns"
   ]
  },
  {
   "cell_type": "code",
   "execution_count": null,
   "id": "c535cd03",
   "metadata": {},
   "outputs": [],
   "source": [
    "survey_sub.columns"
   ]
  },
  {
   "cell_type": "markdown",
   "id": "e47cd5f8",
   "metadata": {},
   "source": [
    "In our example, the join key is the column containing the two-letter species identifier, which is called `species_id`.\n",
    "\n",
    "Now that we know the fields with the common species ID attributes in each DataFrame, we are almost ready to join our data. However, since there are **different types of joins**, we also need to decide which type of join makes sense for our analysis."
   ]
  },
  {
   "cell_type": "markdown",
   "id": "94579856",
   "metadata": {},
   "source": [
    "### Inner Joins\n",
    "\n",
    "The most common type of join is called an *inner join*. An inner join combines two DataFrames based on a join key and returns a new DataFrame that contains only those rows that have matching values in both of the original DataFrames.\n",
    "\n",
    "Inner joins yield a DataFrame that contains only rows where the value being joins exists in BOTH tables. An example of an inner join, adapted from [this page](https://blog.codinghorror.com/a-visual-explanation-of-sql-joins/) is below:"
   ]
  },
  {
   "cell_type": "markdown",
   "id": "633c4fda",
   "metadata": {},
   "source": [
    "![inner join](../../fig/inner-join.png)"
   ]
  },
  {
   "cell_type": "markdown",
   "id": "3286700a",
   "metadata": {},
   "source": [
    "The pandas function for performing joins is called `merge` and an Inner join is the default option:"
   ]
  },
  {
   "cell_type": "code",
   "execution_count": null,
   "id": "bf76c9da",
   "metadata": {},
   "outputs": [],
   "source": [
    "merged_inner = pd.merge(left=survey_sub,right=species_sub, left_on='species_id', right_on='species_id')\n",
    "# In this case `species_id` is the only column name in  both dataframes, so if we skippd `left_on`\n",
    "# And `right_on` arguments we would still get the same result\n",
    "\n",
    "# What's the size of the output data?\n",
    "merged_inner.shape\n",
    "merged_inner"
   ]
  },
  {
   "cell_type": "markdown",
   "id": "cd4c9485",
   "metadata": {},
   "source": [
    "The result of an inner join of `survey_sub` and `species_sub` is a new DataFrame that contains the combined set of columns from `survey_sub` and `species_sub`. It only contains rows that have two-letter species codes that are the same in both the `survey_sub` and `species_sub` DataFrames. In other words, if a row in `survey_sub` has a value of `species_id` that does not appear in the `species_id` column of `species`, it will not be included in the DataFrame returned by an inner join. Similarly, if a row in `species_sub` has a value of `species_id` that does not appear in the `species_id` column of `survey_sub`, that row will not be included in the DataFrame returned by an **inner join**.\n",
    "\n",
    "The two DataFrames that we want to join are passed to the `merge` function using the left and right argument. The `left_on='species'` argument tells `merge` to use the `species_id` column as the join key from `survey_sub` (the left DataFrame). Similarly , the `right_on='species_id'` argument tells merge to use the `species_id` column as the join key from `species_sub` (the right DataFrame). For inner joins, the order of the left and right arguments does not matter.\n",
    "\n",
    "The result `merged_inner` DataFrame contains all of the columns from `survey_sub` (record id, month, day, etc.) as well as all the columns from species_sub (species_id, genus, species, and taxa).\n",
    "\n",
    "Notice that `merged_inner` has fewer rows than `survey_sub`. This is an indication that there were rows in `surveys_df` with value(s) for species_id that do not exist as value(s) for `species_id` in `species_df`.\n",
    "\n"
   ]
  },
  {
   "cell_type": "markdown",
   "id": "bba0ac80",
   "metadata": {},
   "source": [
    "### Left Joins\n",
    "\n",
    "What if we want to add information from `species_sub` to `survey_sub` without losing any of the information from `survey_sub`? In this case, we use a different type of join called a “left outer join”, or a “left join”.\n",
    "\n",
    "Like an inner join, a left join uses join keys to combine two DataFrames. Unlike an inner join, a left join will return *all* of the rows from the `left` DataFrame, even those rows whose join key(s) do not have values in the `right` DataFrame. Rows in the left DataFrame that are missing values for the join key(s) in the `right` DataFrame will simply have null (i.e., NaN or None) values for those columns in the resulting joined DataFrame.\n",
    "\n",
    "Note: a left join will still discard rows from the `right` DataFrame that do not have values for the join key(s) in the `left` DataFrame."
   ]
  },
  {
   "cell_type": "markdown",
   "id": "26c307d6",
   "metadata": {},
   "source": [
    "![left join](images/left_join.png)"
   ]
  },
  {
   "cell_type": "markdown",
   "id": "be3c28ba",
   "metadata": {},
   "source": [
    "A left join is performed in pandas by calling the same `merge` function used for inner join, but using the `how='left'` argument:"
   ]
  },
  {
   "cell_type": "code",
   "execution_count": null,
   "id": "166a4f62",
   "metadata": {},
   "outputs": [],
   "source": [
    "merged_left = pd.merge(left=survey_sub,right=species_sub, how='left', left_on='species_id', right_on='species_id')\n",
    "\n",
    "merged_left\n"
   ]
  },
  {
   "cell_type": "markdown",
   "id": "fa1cf7c3",
   "metadata": {},
   "source": [
    "The result DataFrame from a left join (`merged_left`) looks very much like the result DataFrame from an inner join (`merged_inner`) in terms of the columns it contains. However, unlike `merged_inner`, merged_left contains the same number of rows as the original `survey_sub` DataFrame. When we inspect `merged_left`, we find there are rows where the information that should have come from `species_sub (i.e., species_id, genus, and taxa)` is missing (they contain NaN values):"
   ]
  },
  {
   "cell_type": "code",
   "execution_count": null,
   "id": "96a79b28",
   "metadata": {},
   "outputs": [],
   "source": [
    "merged_left[ pd.isnull(merged_left.genus) ]"
   ]
  },
  {
   "cell_type": "markdown",
   "id": "86968b37",
   "metadata": {},
   "source": [
    "These rows are the ones where the value of `species_id` from `survey_sub` (in this case, PF) does not occur in `species_sub`."
   ]
  },
  {
   "cell_type": "markdown",
   "id": "53247699",
   "metadata": {},
   "source": [
    "### Other join types\n",
    "\n",
    "The pandas merge function supports two other join types:\n",
    "\n",
    " - Right (outer) join: Invoked by passing `how='right'` as an argument. Similar to a left join, except all rows from the `right` DataFrame are kept, while rows from the left DataFrame without matching join key(s) values are discarded.\n",
    " - Full (outer) join: Invoked by passing `how='outer'` as an argument. This join type returns the all pairwise combinations of rows from both DataFrames; i.e., the result DataFrame will `NaN` where data is missing in one of the dataframes. This join type is very rarely used.\n"
   ]
  },
  {
   "cell_type": "markdown",
   "id": "e3da404b",
   "metadata": {
    "tags": [
     "challenge"
    ]
   },
   "source": [
    "## Extra Challenge 1\n",
    "\n",
    "Create a new DataFrame by joining the contents of the `surveys.csv` and `speciesSubset.csv` tables. Then calculate and plot the distribution of:\n",
    "\n",
    " 1. taxa by plot\n",
    " 2. taxa by sex by plot"
   ]
  },
  {
   "cell_type": "code",
   "execution_count": null,
   "id": "7fcb9592",
   "metadata": {},
   "outputs": [],
   "source": []
  }
 ],
 "metadata": {
  "kernelspec": {
   "display_name": "Python 3.8.11 64-bit ('base': conda)",
   "language": "python",
   "name": "python3811jvsc74a57bd0e421d3b68f4391190fb1f8e0b329ae041ae1095e70fa55ab3d8ddd98f5dcb31e"
  },
  "language_info": {
   "codemirror_mode": {
    "name": "ipython",
    "version": 3
   },
   "file_extension": ".py",
   "mimetype": "text/x-python",
   "name": "python",
   "nbconvert_exporter": "python",
   "pygments_lexer": "ipython3",
   "version": "3.8.11"
  }
 },
 "nbformat": 4,
 "nbformat_minor": 5
}
